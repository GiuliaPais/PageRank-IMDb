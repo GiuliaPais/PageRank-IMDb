{
  "nbformat": 4,
  "nbformat_minor": 0,
  "metadata": {
    "colab": {
      "name": "PR_for_imdb.ipynb",
      "provenance": [],
      "collapsed_sections": [],
      "authorship_tag": "ABX9TyOWBF2B8yVwqq1mujN/n81R",
      "include_colab_link": true
    },
    "kernelspec": {
      "display_name": "Python 3",
      "name": "python3"
    },
    "language_info": {
      "name": "python"
    },
    "widgets": {
      "application/vnd.jupyter.widget-state+json": {
        "f48e9bab73c64344abe8f737c0ffce23": {
          "model_module": "@jupyter-widgets/controls",
          "model_name": "SelectMultipleModel",
          "model_module_version": "1.5.0",
          "state": {
            "_dom_classes": [],
            "_model_module": "@jupyter-widgets/controls",
            "_model_module_version": "1.5.0",
            "_model_name": "SelectMultipleModel",
            "_options_labels": [
              "Thriller",
              "Romance",
              "Action",
              "Music",
              "Sport",
              "Mystery",
              "Sci-Fi",
              "Talk-Show",
              "Biography",
              "Fantasy",
              "Animation",
              "Adult",
              "Game-Show",
              "Horror",
              "War",
              "Western",
              "Reality-TV",
              "Musical",
              "Documentary",
              "Drama",
              "History",
              "Short",
              "Comedy",
              "Crime",
              "Adventure",
              "Family",
              "Film-Noir",
              "News"
            ],
            "_view_count": null,
            "_view_module": "@jupyter-widgets/controls",
            "_view_module_version": "1.5.0",
            "_view_name": "SelectMultipleView",
            "description": "Topics",
            "description_tooltip": null,
            "disabled": false,
            "index": [
              2,
              13,
              19,
              22
            ],
            "layout": "IPY_MODEL_680a300564244137b1741461d03958c7",
            "rows": 5,
            "style": "IPY_MODEL_e5e6f84429404689ac87df80322f5ecd"
          }
        },
        "680a300564244137b1741461d03958c7": {
          "model_module": "@jupyter-widgets/base",
          "model_name": "LayoutModel",
          "model_module_version": "1.2.0",
          "state": {
            "_model_module": "@jupyter-widgets/base",
            "_model_module_version": "1.2.0",
            "_model_name": "LayoutModel",
            "_view_count": null,
            "_view_module": "@jupyter-widgets/base",
            "_view_module_version": "1.2.0",
            "_view_name": "LayoutView",
            "align_content": null,
            "align_items": null,
            "align_self": null,
            "border": null,
            "bottom": null,
            "display": null,
            "flex": null,
            "flex_flow": null,
            "grid_area": null,
            "grid_auto_columns": null,
            "grid_auto_flow": null,
            "grid_auto_rows": null,
            "grid_column": null,
            "grid_gap": null,
            "grid_row": null,
            "grid_template_areas": null,
            "grid_template_columns": null,
            "grid_template_rows": null,
            "height": null,
            "justify_content": null,
            "justify_items": null,
            "left": null,
            "margin": null,
            "max_height": null,
            "max_width": null,
            "min_height": null,
            "min_width": null,
            "object_fit": null,
            "object_position": null,
            "order": null,
            "overflow": null,
            "overflow_x": null,
            "overflow_y": null,
            "padding": null,
            "right": null,
            "top": null,
            "visibility": null,
            "width": null
          }
        },
        "e5e6f84429404689ac87df80322f5ecd": {
          "model_module": "@jupyter-widgets/controls",
          "model_name": "DescriptionStyleModel",
          "model_module_version": "1.5.0",
          "state": {
            "_model_module": "@jupyter-widgets/controls",
            "_model_module_version": "1.5.0",
            "_model_name": "DescriptionStyleModel",
            "_view_count": null,
            "_view_module": "@jupyter-widgets/base",
            "_view_module_version": "1.2.0",
            "_view_name": "StyleView",
            "description_width": ""
          }
        }
      }
    }
  },
  "cells": [
    {
      "cell_type": "markdown",
      "metadata": {
        "id": "view-in-github",
        "colab_type": "text"
      },
      "source": [
        "<a href=\"https://colab.research.google.com/github/GiuliaPais/PageRank-IMDb/blob/master/PR_for_imdb.ipynb\" target=\"_parent\"><img src=\"https://colab.research.google.com/assets/colab-badge.svg\" alt=\"Open In Colab\"/></a>"
      ]
    },
    {
      "cell_type": "markdown",
      "metadata": {
        "id": "IL8ENoXL3FCP"
      },
      "source": [
        "# **PageRank applications for IMDb dataset**\n",
        "### Final assignment for Algorithms for Massive Datasets course at Università Statale di Milano 2020/2021\n",
        "##### Author: Giulia Pais, student ID number T15156\n"
      ]
    },
    {
      "cell_type": "markdown",
      "metadata": {
        "id": "l7VCNwqeIgNL"
      },
      "source": [
        "## **References**"
      ]
    },
    {
      "cell_type": "markdown",
      "metadata": {
        "id": "RWWKafDoIswa"
      },
      "source": [
        "\n",
        "\n",
        "*   GitHub repository of the project: https://github.com/GiuliaPais/PageRank-IMDb\n",
        "*   Project Report: todo\n",
        "\n"
      ]
    },
    {
      "cell_type": "markdown",
      "metadata": {
        "id": "nxDj74X64oCH"
      },
      "source": [
        "## **Preliminary steps: download and install packages**\n",
        "\n"
      ]
    },
    {
      "cell_type": "markdown",
      "metadata": {
        "id": "IHThZ3YIrp7b"
      },
      "source": [
        "For this project we're going to use Spark DataFrames and GraphFrames.\n",
        "To work with DataFrames we'll need, instead of a typical Spark context, a SparkSession object."
      ]
    },
    {
      "cell_type": "code",
      "metadata": {
        "colab": {
          "base_uri": "https://localhost:8080/"
        },
        "id": "uRdcc6DkmAE9",
        "outputId": "2eb8e5dc-fb89-4a66-d46d-787f30ee6164"
      },
      "source": [
        "# Install Java 8, Spark, findspark and pyspark\n",
        "!apt-get install openjdk-8-jdk-headless -qq > /dev/null\n",
        "!wget -q https://downloads.apache.org/spark/spark-3.1.2/spark-3.1.2-bin-hadoop2.7.tgz\n",
        "!tar -xf spark-3.1.2-bin-hadoop2.7.tgz\n",
        "!pip install -q findspark\n",
        "!pip install pyspark\n",
        "# Set env variables\n",
        "import os\n",
        "os.environ[\"JAVA_HOME\"] = \"/usr/lib/jvm/java-8-openjdk-amd64\"\n",
        "os.environ[\"SPARK_HOME\"] = \"/content/spark-3.1.2-bin-hadoop2.7\"\n",
        "os.environ['PYSPARK_SUBMIT_ARGS'] = '--packages graphframes:graphframes:0.8.1-spark3.0-s_2.12 pyspark-shell'\n",
        "# Initialize with findspark to import pyspark as a regular library\n",
        "import findspark\n",
        "findspark.init(\"spark-3.1.2-bin-hadoop2.7\")\n",
        "# Obtain a Spark session reference\n",
        "from pyspark.sql import SparkSession\n",
        "spark = SparkSession.builder.master(\"local[*]\").getOrCreate()"
      ],
      "execution_count": null,
      "outputs": [
        {
          "output_type": "stream",
          "text": [
            "Collecting pyspark\n",
            "  Downloading pyspark-3.1.2.tar.gz (212.4 MB)\n",
            "\u001b[K     |████████████████████████████████| 212.4 MB 63 kB/s \n",
            "\u001b[?25hCollecting py4j==0.10.9\n",
            "  Downloading py4j-0.10.9-py2.py3-none-any.whl (198 kB)\n",
            "\u001b[K     |████████████████████████████████| 198 kB 41.0 MB/s \n",
            "\u001b[?25hBuilding wheels for collected packages: pyspark\n",
            "  Building wheel for pyspark (setup.py) ... \u001b[?25l\u001b[?25hdone\n",
            "  Created wheel for pyspark: filename=pyspark-3.1.2-py2.py3-none-any.whl size=212880768 sha256=9fd8cbc8e03227230021fb2f7532943b347e14ec7922e8c02574c85d1ffecb3a\n",
            "  Stored in directory: /root/.cache/pip/wheels/a5/0a/c1/9561f6fecb759579a7d863dcd846daaa95f598744e71b02c77\n",
            "Successfully built pyspark\n",
            "Installing collected packages: py4j, pyspark\n",
            "Successfully installed py4j-0.10.9 pyspark-3.1.2\n"
          ],
          "name": "stdout"
        }
      ]
    },
    {
      "cell_type": "code",
      "metadata": {
        "id": "Mus32b1bws6Z"
      },
      "source": [
        "from pyspark.sql.types import *\n",
        "from pyspark.sql import functions as F\n",
        "from pyspark.sql import Window\n",
        "from graphframes import *"
      ],
      "execution_count": null,
      "outputs": []
    },
    {
      "cell_type": "markdown",
      "metadata": {
        "id": "Rp5kPrzMJoY8"
      },
      "source": [
        "For data visualization we're going to use Dash (with Cytoscape extension for graph visualization) and Plotly."
      ]
    },
    {
      "cell_type": "code",
      "metadata": {
        "colab": {
          "base_uri": "https://localhost:8080/"
        },
        "id": "L-0ZU1NkJSKN",
        "outputId": "a455ff0d-5472-48e7-9e30-b1487a309358"
      },
      "source": [
        "!pip install plotly==5.1.0\n",
        "!pip install dash --upgrade\n",
        "!pip install jupyter-dash\n",
        "!pip install dash-cytoscape==0.2.0\n",
        "!pip install dash-bootstrap-components"
      ],
      "execution_count": null,
      "outputs": [
        {
          "output_type": "stream",
          "text": [
            "Requirement already satisfied: plotly==5.1.0 in /usr/local/lib/python3.7/dist-packages (5.1.0)\n",
            "Requirement already satisfied: six in /usr/local/lib/python3.7/dist-packages (from plotly==5.1.0) (1.15.0)\n",
            "Requirement already satisfied: tenacity>=6.2.0 in /usr/local/lib/python3.7/dist-packages (from plotly==5.1.0) (8.0.1)\n",
            "Requirement already satisfied: dash in /usr/local/lib/python3.7/dist-packages (1.21.0)\n",
            "Requirement already satisfied: dash-html-components==1.1.4 in /usr/local/lib/python3.7/dist-packages (from dash) (1.1.4)\n",
            "Requirement already satisfied: future in /usr/local/lib/python3.7/dist-packages (from dash) (0.16.0)\n",
            "Requirement already satisfied: plotly in /usr/local/lib/python3.7/dist-packages (from dash) (5.1.0)\n",
            "Requirement already satisfied: Flask>=1.0.4 in /usr/local/lib/python3.7/dist-packages (from dash) (1.1.4)\n",
            "Requirement already satisfied: dash-core-components==1.17.1 in /usr/local/lib/python3.7/dist-packages (from dash) (1.17.1)\n",
            "Requirement already satisfied: flask-compress in /usr/local/lib/python3.7/dist-packages (from dash) (1.10.1)\n",
            "Requirement already satisfied: dash-table==4.12.0 in /usr/local/lib/python3.7/dist-packages (from dash) (4.12.0)\n",
            "Requirement already satisfied: itsdangerous<2.0,>=0.24 in /usr/local/lib/python3.7/dist-packages (from Flask>=1.0.4->dash) (1.1.0)\n",
            "Requirement already satisfied: Jinja2<3.0,>=2.10.1 in /usr/local/lib/python3.7/dist-packages (from Flask>=1.0.4->dash) (2.11.3)\n",
            "Requirement already satisfied: click<8.0,>=5.1 in /usr/local/lib/python3.7/dist-packages (from Flask>=1.0.4->dash) (7.1.2)\n",
            "Requirement already satisfied: Werkzeug<2.0,>=0.15 in /usr/local/lib/python3.7/dist-packages (from Flask>=1.0.4->dash) (1.0.1)\n",
            "Requirement already satisfied: MarkupSafe>=0.23 in /usr/local/lib/python3.7/dist-packages (from Jinja2<3.0,>=2.10.1->Flask>=1.0.4->dash) (2.0.1)\n",
            "Requirement already satisfied: brotli in /usr/local/lib/python3.7/dist-packages (from flask-compress->dash) (1.0.9)\n",
            "Requirement already satisfied: six in /usr/local/lib/python3.7/dist-packages (from plotly->dash) (1.15.0)\n",
            "Requirement already satisfied: tenacity>=6.2.0 in /usr/local/lib/python3.7/dist-packages (from plotly->dash) (8.0.1)\n",
            "Requirement already satisfied: jupyter-dash in /usr/local/lib/python3.7/dist-packages (0.4.0)\n",
            "Requirement already satisfied: requests in /usr/local/lib/python3.7/dist-packages (from jupyter-dash) (2.23.0)\n",
            "Requirement already satisfied: dash in /usr/local/lib/python3.7/dist-packages (from jupyter-dash) (1.21.0)\n",
            "Requirement already satisfied: flask in /usr/local/lib/python3.7/dist-packages (from jupyter-dash) (1.1.4)\n",
            "Requirement already satisfied: retrying in /usr/local/lib/python3.7/dist-packages (from jupyter-dash) (1.3.3)\n",
            "Requirement already satisfied: ansi2html in /usr/local/lib/python3.7/dist-packages (from jupyter-dash) (1.6.0)\n",
            "Requirement already satisfied: ipython in /usr/local/lib/python3.7/dist-packages (from jupyter-dash) (5.5.0)\n",
            "Requirement already satisfied: ipykernel in /usr/local/lib/python3.7/dist-packages (from jupyter-dash) (4.10.1)\n",
            "Requirement already satisfied: plotly in /usr/local/lib/python3.7/dist-packages (from dash->jupyter-dash) (5.1.0)\n",
            "Requirement already satisfied: dash-html-components==1.1.4 in /usr/local/lib/python3.7/dist-packages (from dash->jupyter-dash) (1.1.4)\n",
            "Requirement already satisfied: dash-table==4.12.0 in /usr/local/lib/python3.7/dist-packages (from dash->jupyter-dash) (4.12.0)\n",
            "Requirement already satisfied: flask-compress in /usr/local/lib/python3.7/dist-packages (from dash->jupyter-dash) (1.10.1)\n",
            "Requirement already satisfied: dash-core-components==1.17.1 in /usr/local/lib/python3.7/dist-packages (from dash->jupyter-dash) (1.17.1)\n",
            "Requirement already satisfied: future in /usr/local/lib/python3.7/dist-packages (from dash->jupyter-dash) (0.16.0)\n",
            "Requirement already satisfied: Werkzeug<2.0,>=0.15 in /usr/local/lib/python3.7/dist-packages (from flask->jupyter-dash) (1.0.1)\n",
            "Requirement already satisfied: itsdangerous<2.0,>=0.24 in /usr/local/lib/python3.7/dist-packages (from flask->jupyter-dash) (1.1.0)\n",
            "Requirement already satisfied: click<8.0,>=5.1 in /usr/local/lib/python3.7/dist-packages (from flask->jupyter-dash) (7.1.2)\n",
            "Requirement already satisfied: Jinja2<3.0,>=2.10.1 in /usr/local/lib/python3.7/dist-packages (from flask->jupyter-dash) (2.11.3)\n",
            "Requirement already satisfied: MarkupSafe>=0.23 in /usr/local/lib/python3.7/dist-packages (from Jinja2<3.0,>=2.10.1->flask->jupyter-dash) (2.0.1)\n",
            "Requirement already satisfied: brotli in /usr/local/lib/python3.7/dist-packages (from flask-compress->dash->jupyter-dash) (1.0.9)\n",
            "Requirement already satisfied: traitlets>=4.1.0 in /usr/local/lib/python3.7/dist-packages (from ipykernel->jupyter-dash) (5.0.5)\n",
            "Requirement already satisfied: tornado>=4.0 in /usr/local/lib/python3.7/dist-packages (from ipykernel->jupyter-dash) (5.1.1)\n",
            "Requirement already satisfied: jupyter-client in /usr/local/lib/python3.7/dist-packages (from ipykernel->jupyter-dash) (5.3.5)\n",
            "Requirement already satisfied: pickleshare in /usr/local/lib/python3.7/dist-packages (from ipython->jupyter-dash) (0.7.5)\n",
            "Requirement already satisfied: decorator in /usr/local/lib/python3.7/dist-packages (from ipython->jupyter-dash) (4.4.2)\n",
            "Requirement already satisfied: prompt-toolkit<2.0.0,>=1.0.4 in /usr/local/lib/python3.7/dist-packages (from ipython->jupyter-dash) (1.0.18)\n",
            "Requirement already satisfied: pygments in /usr/local/lib/python3.7/dist-packages (from ipython->jupyter-dash) (2.6.1)\n",
            "Requirement already satisfied: pexpect in /usr/local/lib/python3.7/dist-packages (from ipython->jupyter-dash) (4.8.0)\n",
            "Requirement already satisfied: setuptools>=18.5 in /usr/local/lib/python3.7/dist-packages (from ipython->jupyter-dash) (57.4.0)\n",
            "Requirement already satisfied: simplegeneric>0.8 in /usr/local/lib/python3.7/dist-packages (from ipython->jupyter-dash) (0.8.1)\n",
            "Requirement already satisfied: wcwidth in /usr/local/lib/python3.7/dist-packages (from prompt-toolkit<2.0.0,>=1.0.4->ipython->jupyter-dash) (0.2.5)\n",
            "Requirement already satisfied: six>=1.9.0 in /usr/local/lib/python3.7/dist-packages (from prompt-toolkit<2.0.0,>=1.0.4->ipython->jupyter-dash) (1.15.0)\n",
            "Requirement already satisfied: ipython-genutils in /usr/local/lib/python3.7/dist-packages (from traitlets>=4.1.0->ipykernel->jupyter-dash) (0.2.0)\n",
            "Requirement already satisfied: pyzmq>=13 in /usr/local/lib/python3.7/dist-packages (from jupyter-client->ipykernel->jupyter-dash) (22.2.1)\n",
            "Requirement already satisfied: jupyter-core>=4.6.0 in /usr/local/lib/python3.7/dist-packages (from jupyter-client->ipykernel->jupyter-dash) (4.7.1)\n",
            "Requirement already satisfied: python-dateutil>=2.1 in /usr/local/lib/python3.7/dist-packages (from jupyter-client->ipykernel->jupyter-dash) (2.8.2)\n",
            "Requirement already satisfied: ptyprocess>=0.5 in /usr/local/lib/python3.7/dist-packages (from pexpect->ipython->jupyter-dash) (0.7.0)\n",
            "Requirement already satisfied: tenacity>=6.2.0 in /usr/local/lib/python3.7/dist-packages (from plotly->dash->jupyter-dash) (8.0.1)\n",
            "Requirement already satisfied: certifi>=2017.4.17 in /usr/local/lib/python3.7/dist-packages (from requests->jupyter-dash) (2021.5.30)\n",
            "Requirement already satisfied: urllib3!=1.25.0,!=1.25.1,<1.26,>=1.21.1 in /usr/local/lib/python3.7/dist-packages (from requests->jupyter-dash) (1.24.3)\n",
            "Requirement already satisfied: idna<3,>=2.5 in /usr/local/lib/python3.7/dist-packages (from requests->jupyter-dash) (2.10)\n",
            "Requirement already satisfied: chardet<4,>=3.0.2 in /usr/local/lib/python3.7/dist-packages (from requests->jupyter-dash) (3.0.4)\n",
            "Requirement already satisfied: dash-cytoscape==0.2.0 in /usr/local/lib/python3.7/dist-packages (0.2.0)\n",
            "Requirement already satisfied: dash in /usr/local/lib/python3.7/dist-packages (from dash-cytoscape==0.2.0) (1.21.0)\n",
            "Requirement already satisfied: dash-core-components==1.17.1 in /usr/local/lib/python3.7/dist-packages (from dash->dash-cytoscape==0.2.0) (1.17.1)\n",
            "Requirement already satisfied: Flask>=1.0.4 in /usr/local/lib/python3.7/dist-packages (from dash->dash-cytoscape==0.2.0) (1.1.4)\n",
            "Requirement already satisfied: future in /usr/local/lib/python3.7/dist-packages (from dash->dash-cytoscape==0.2.0) (0.16.0)\n",
            "Requirement already satisfied: flask-compress in /usr/local/lib/python3.7/dist-packages (from dash->dash-cytoscape==0.2.0) (1.10.1)\n",
            "Requirement already satisfied: dash-table==4.12.0 in /usr/local/lib/python3.7/dist-packages (from dash->dash-cytoscape==0.2.0) (4.12.0)\n",
            "Requirement already satisfied: plotly in /usr/local/lib/python3.7/dist-packages (from dash->dash-cytoscape==0.2.0) (5.1.0)\n",
            "Requirement already satisfied: dash-html-components==1.1.4 in /usr/local/lib/python3.7/dist-packages (from dash->dash-cytoscape==0.2.0) (1.1.4)\n",
            "Requirement already satisfied: Jinja2<3.0,>=2.10.1 in /usr/local/lib/python3.7/dist-packages (from Flask>=1.0.4->dash->dash-cytoscape==0.2.0) (2.11.3)\n",
            "Requirement already satisfied: Werkzeug<2.0,>=0.15 in /usr/local/lib/python3.7/dist-packages (from Flask>=1.0.4->dash->dash-cytoscape==0.2.0) (1.0.1)\n",
            "Requirement already satisfied: itsdangerous<2.0,>=0.24 in /usr/local/lib/python3.7/dist-packages (from Flask>=1.0.4->dash->dash-cytoscape==0.2.0) (1.1.0)\n",
            "Requirement already satisfied: click<8.0,>=5.1 in /usr/local/lib/python3.7/dist-packages (from Flask>=1.0.4->dash->dash-cytoscape==0.2.0) (7.1.2)\n",
            "Requirement already satisfied: MarkupSafe>=0.23 in /usr/local/lib/python3.7/dist-packages (from Jinja2<3.0,>=2.10.1->Flask>=1.0.4->dash->dash-cytoscape==0.2.0) (2.0.1)\n",
            "Requirement already satisfied: brotli in /usr/local/lib/python3.7/dist-packages (from flask-compress->dash->dash-cytoscape==0.2.0) (1.0.9)\n",
            "Requirement already satisfied: tenacity>=6.2.0 in /usr/local/lib/python3.7/dist-packages (from plotly->dash->dash-cytoscape==0.2.0) (8.0.1)\n",
            "Requirement already satisfied: six in /usr/local/lib/python3.7/dist-packages (from plotly->dash->dash-cytoscape==0.2.0) (1.15.0)\n",
            "Requirement already satisfied: dash-bootstrap-components in /usr/local/lib/python3.7/dist-packages (0.13.0)\n",
            "Requirement already satisfied: dash>=1.9.0 in /usr/local/lib/python3.7/dist-packages (from dash-bootstrap-components) (1.21.0)\n",
            "Requirement already satisfied: Flask>=1.0.4 in /usr/local/lib/python3.7/dist-packages (from dash>=1.9.0->dash-bootstrap-components) (1.1.4)\n",
            "Requirement already satisfied: dash-core-components==1.17.1 in /usr/local/lib/python3.7/dist-packages (from dash>=1.9.0->dash-bootstrap-components) (1.17.1)\n",
            "Requirement already satisfied: dash-table==4.12.0 in /usr/local/lib/python3.7/dist-packages (from dash>=1.9.0->dash-bootstrap-components) (4.12.0)\n",
            "Requirement already satisfied: dash-html-components==1.1.4 in /usr/local/lib/python3.7/dist-packages (from dash>=1.9.0->dash-bootstrap-components) (1.1.4)\n",
            "Requirement already satisfied: flask-compress in /usr/local/lib/python3.7/dist-packages (from dash>=1.9.0->dash-bootstrap-components) (1.10.1)\n",
            "Requirement already satisfied: future in /usr/local/lib/python3.7/dist-packages (from dash>=1.9.0->dash-bootstrap-components) (0.16.0)\n",
            "Requirement already satisfied: plotly in /usr/local/lib/python3.7/dist-packages (from dash>=1.9.0->dash-bootstrap-components) (5.1.0)\n",
            "Requirement already satisfied: Jinja2<3.0,>=2.10.1 in /usr/local/lib/python3.7/dist-packages (from Flask>=1.0.4->dash>=1.9.0->dash-bootstrap-components) (2.11.3)\n",
            "Requirement already satisfied: Werkzeug<2.0,>=0.15 in /usr/local/lib/python3.7/dist-packages (from Flask>=1.0.4->dash>=1.9.0->dash-bootstrap-components) (1.0.1)\n",
            "Requirement already satisfied: itsdangerous<2.0,>=0.24 in /usr/local/lib/python3.7/dist-packages (from Flask>=1.0.4->dash>=1.9.0->dash-bootstrap-components) (1.1.0)\n",
            "Requirement already satisfied: click<8.0,>=5.1 in /usr/local/lib/python3.7/dist-packages (from Flask>=1.0.4->dash>=1.9.0->dash-bootstrap-components) (7.1.2)\n",
            "Requirement already satisfied: MarkupSafe>=0.23 in /usr/local/lib/python3.7/dist-packages (from Jinja2<3.0,>=2.10.1->Flask>=1.0.4->dash>=1.9.0->dash-bootstrap-components) (2.0.1)\n",
            "Requirement already satisfied: brotli in /usr/local/lib/python3.7/dist-packages (from flask-compress->dash>=1.9.0->dash-bootstrap-components) (1.0.9)\n",
            "Requirement already satisfied: six in /usr/local/lib/python3.7/dist-packages (from plotly->dash>=1.9.0->dash-bootstrap-components) (1.15.0)\n",
            "Requirement already satisfied: tenacity>=6.2.0 in /usr/local/lib/python3.7/dist-packages (from plotly->dash>=1.9.0->dash-bootstrap-components) (8.0.1)\n"
          ],
          "name": "stdout"
        }
      ]
    },
    {
      "cell_type": "code",
      "metadata": {
        "id": "pNAW0ZcgFyY9"
      },
      "source": [
        "import plotly.express as px\n",
        "from jupyter_dash import JupyterDash\n",
        "import dash_core_components as dcc\n",
        "import dash_html_components as html\n",
        "from dash.dependencies import Input, Output\n",
        "import dash_cytoscape as cyto\n",
        "import dash_html_components as html\n",
        "import plotly.graph_objs as go\n",
        "import plotly\n",
        "import dash\n",
        "from dash.exceptions import PreventUpdate\n",
        "import dash_bootstrap_components as dbc"
      ],
      "execution_count": null,
      "outputs": []
    },
    {
      "cell_type": "markdown",
      "metadata": {
        "id": "D-48gRSokzHE"
      },
      "source": [
        "## PageRank implementations"
      ]
    },
    {
      "cell_type": "markdown",
      "metadata": {
        "id": "CErDnyJEv0Vy"
      },
      "source": [
        "In this section we're going to provide several different implementation of the PageRank algorithm based on Spark DataFrames and GraphFrames. For a more detailed dissertation please refer to the project report."
      ]
    },
    {
      "cell_type": "markdown",
      "metadata": {
        "id": "w2xhmgzpwDdI"
      },
      "source": [
        "### Classical PageRank algorithm\n",
        "\n",
        "This is the classical random-surfer algorithm implementation of PageRank. The function takes as input a graph (GraphFrame) and returns a Spark DataFrame containing all nodes ids and their corresponding PageRank value. The user can set one (or both) of the arguments `n_iter` (maximum number of iterations) and `tolerance` (threshold for distance). If both are set, the algorithm will terminate when at least one of the 2 exit conditions is matched."
      ]
    },
    {
      "cell_type": "code",
      "metadata": {
        "id": "vv6QE3MrvDLn"
      },
      "source": [
        "def page_rank(graph : GraphFrame, \n",
        "              tolerance = 10e-6, \n",
        "              n_iter = 100, \n",
        "              beta = 0.85, \n",
        "              verbose = True):\n",
        "  ''' Computes the PageRank for each node in the input graph.\n",
        "\n",
        "  This is the implementation of the PageRank original algorithm with \n",
        "  the teleportation technique using Spark DataFrames.\n",
        "\n",
        "  Parameters\n",
        "  ----------\n",
        "  graph: GraphFrame\n",
        "    A graph object\n",
        "  tolerance: positive number\n",
        "    Represents the tolerance threshold when checking the distance\n",
        "    between the pageRank at the previous step and the values at the\n",
        "    current step\n",
        "  n_iter: positive number\n",
        "    Maximum number of iterations. At least one between 'tolerance' and\n",
        "    'n_iter' must be provided.\n",
        "  beta: value between 0 and 1\n",
        "    Corresponds to the probability to follow an outgoing link,\n",
        "    the damping factor.\n",
        "  verbose: logical\n",
        "    If True displays messages on function status during execution\n",
        "\n",
        "  Returns\n",
        "  -------\n",
        "  A Spark dataframe containing all vertices with the corresponding\n",
        "  pageRank value\n",
        "  '''\n",
        "  from math import sqrt\n",
        "  # Arg validation\n",
        "  if (tolerance == None and n_iter == None):\n",
        "    raise ValueError(\"At least one argument between 'tolerance' and 'n_iter' must be set\")\n",
        "  if (beta > 1 or beta < 0):\n",
        "    raise ValueError(\"'beta' must be a value between 0 and 1\")\n",
        "  # Get the out degree of each node. Note: only nodes with at least 1 out edge are returned by this method\n",
        "  out_deg = graph.outDegrees\n",
        "  # Get the transition matrix in form of triples by applying a transformation to the edges df\n",
        "  if verbose:\n",
        "    print(\"Computing transition matrix...\")\n",
        "  transition_matrix = graph.edges \\\n",
        "  .join(out_deg.withColumnRenamed(\"id\", \"dst\"), \"dst\", how = \"left\")\n",
        "  transition_matrix = transition_matrix.withColumn(\"t_value\", (1 / F.col(\"outDegree\")*beta)) \\\n",
        "  .select(\"src\", \"dst\", \"t_value\").cache() # beta*M\n",
        "  # Obtain the total number of nodes\n",
        "  n_nodes = graph.vertices.count()\n",
        "  # Separate isolated nodes from connected nodes\n",
        "  if verbose:\n",
        "    print(\"Computing initial vectors for nodes...\")\n",
        "  # Get ids of isolated nodes\n",
        "  connected_t0 = graph.vertices.select(\"id\") \\\n",
        "    .join(graph.edges.select(F.col(\"src\").alias(\"id\")), \n",
        "          on = \"id\", how = \"leftsemi\") \\\n",
        "    .withColumn(\"rank\", F.lit(1 / n_nodes)).cache()\n",
        "  isolated_t0 = graph.vertices.select(\"id\") \\\n",
        "    .join(connected_t0, \"id\", how = \"leftanti\") \\\n",
        "    .withColumn(\"rank\", F.lit(1 / n_nodes)).cache()\n",
        "  isolated_nodes_n = isolated_t0.count()\n",
        "  sdiff_isolated = 0\n",
        "  if isolated_nodes_n > 0:\n",
        "    # Compute rank for isolated components and squared diff\n",
        "    isolated_t1 = isolated_t0.withColumn(\"pageRank\", F.lit((1-beta)*1/n_nodes))\n",
        "    sdiff_isolated = isolated_t1.withColumn(\"row\", F.lit(1)) \\\n",
        "    .withColumn(\"sdiff\", F.sum(F.pow(F.col(\"pageRank\") - F.col(\"rank\"), 2)).over(Window.partitionBy(\"row\"))) \\\n",
        "    .select(\"sdiff\").first()[0]\n",
        "    isolated_t1 = isolated_t1.drop(\"rank\").cache()\n",
        "  # Iterate\n",
        "  iteration = 0\n",
        "  if verbose:\n",
        "    print(\"Starting cycle\")\n",
        "  while True:\n",
        "    iteration += 1\n",
        "    if verbose:\n",
        "      print(\"Iteration: \" + str(iteration))\n",
        "    # Join transition matrix with connected_t0 (on dst)\n",
        "    t_connected_0 = transition_matrix.join(connected_t0.withColumnRenamed(\"id\", \"dst\"), \n",
        "                                            \"dst\", \n",
        "                                            how = \"left\")\n",
        "    # Compute rank for connected components\n",
        "    t_connected_1 = t_connected_0.withColumn(\"pageRank_i\", F.col(\"t_value\")*F.col(\"rank\"))\n",
        "    window = Window.partitionBy(\"id\").orderBy(\"id\")\n",
        "    connected_t1 = t_connected_1.select(t_connected_1.src.alias(\"id\"), \n",
        "                                        t_connected_1.pageRank_i) \\\n",
        "                                        .withColumn(\"row\", F.row_number().over(window)) \\\n",
        "                                        .withColumn(\"pageRank\", F.sum(F.col(\"pageRank_i\")) \\\n",
        "                                                    .over(window) + ((1-beta)*1/n_nodes)) \\\n",
        "                                        .drop(\"pageRank_i\") \\\n",
        "                                        .where(F.col(\"row\")==1).select(\"id\", \"pageRank\")                                   \n",
        "    # Compute distance\n",
        "    if iteration > 1:\n",
        "      sdiff_isolated = 0\n",
        "    delta = connected_t1.join(connected_t0, on = \"id\", how = \"left\") \\\n",
        "    .withColumn(\"row\", F.lit(1)) \\\n",
        "    .withColumn(\"delta\",\n",
        "                F.sum(F.pow(F.col(\"rank\") - F.col(\"pageRank\"), 2)).over(Window.partitionBy(\"row\"))) \\\n",
        "                .select(\"delta\").first()[0] + sdiff_isolated\n",
        "    delta = sqrt(delta)\n",
        "    # Check end conditions\n",
        "    max_iter_reached = True if n_iter is not None and iteration == n_iter else False\n",
        "    tol_ok = True if tolerance is not None and delta <= tolerance else False\n",
        "    if max_iter_reached or tol_ok:\n",
        "      if isolated_nodes_n > 0:\n",
        "        final = graph.vertices.join(connected_t1.union(isolated_t1), \"id\").persist()\n",
        "        isolated_t1.unpersist()\n",
        "      else:\n",
        "        final = graph.vertices.join(connected_t1, \"id\").persist()\n",
        "      if verbose:\n",
        "        print(\"Finished\")\n",
        "      transition_matrix.unpersist()\n",
        "      isolated_t0.unpersist()\n",
        "      connected_t0.unpersist()\n",
        "      return final\n",
        "    else:\n",
        "      # Swap\n",
        "      connected_t0 = connected_t1.withColumnRenamed(\"pageRank\", \"rank\")\n",
        "  return None"
      ],
      "execution_count": null,
      "outputs": []
    },
    {
      "cell_type": "markdown",
      "metadata": {
        "id": "DJkMzPknxpWP"
      },
      "source": [
        "### Topic-sensitive PageRank\n",
        "Modification of the classical algorithm to favor nodes that are about the given topics. In the context of this project, topics are movie genres: a topic-biased rank vector will be computed for each chosen genre."
      ]
    },
    {
      "cell_type": "code",
      "metadata": {
        "id": "wuvwW2b3zCDq"
      },
      "source": [
        "# Function for each worker (internal)\n",
        "def _topic_rank(tm, nodes, edges, topic, beta, n_iter, tolerance, verbose):\n",
        "  from math import sqrt\n",
        "  if verbose:\n",
        "    print(\"Worker '\" + topic + \"' started\")\n",
        "  # Initialization\n",
        "  topic_df = nodes.withColumn(\"intopic\", F.when(F.array_contains(F.col(\"genres\"), topic), 1).otherwise(0))\n",
        "  tm_mod = tm.join(topic_df.select(F.col(\"id\").alias(\"src\"), \"intopic\"), \"src\", how=\"left\").cache()\n",
        "  set_count = topic_df.where(F.col(\"intopic\") == 1).count()\n",
        "  topic_df = topic_df.withColumn(\"rank\", F.col(\"intopic\") / set_count) \\\n",
        "    .select(\"id\",\"intopic\", \"rank\")\n",
        "  # Separating connected components\n",
        "  connected_t0 = topic_df \\\n",
        "    .join(edges.withColumnRenamed(\"src\", \"id\"), \n",
        "          on = \"id\", how = \"leftsemi\").drop(\"intopic\")\n",
        "  isolated_t0 = topic_df \\\n",
        "    .join(connected_t0, \"id\", how = \"leftanti\").cache()\n",
        "  isolated_nodes_n = isolated_t0.count()\n",
        "  sdiff_isolated = 0\n",
        "  if isolated_nodes_n > 0:\n",
        "    # Compute rank for isolated components and squared diff\n",
        "    isolated_t1 = isolated_t0.withColumn(\"pageRank\", F.when(F.col(\"intopic\") == 0, 0).otherwise(F.lit((1-beta)*1/set_count)))\n",
        "    sdiff_isolated = isolated_t1.withColumn(\"row\", F.lit(1)) \\\n",
        "    .withColumn(\"sdiff\", F.sum(F.pow(F.col(\"pageRank\") - F.col(\"rank\"), 2)).over(Window.partitionBy(\"row\"))) \\\n",
        "    .select(\"sdiff\").first()[0]\n",
        "    isolated_t1 = isolated_t1.drop(\"rank\").drop(\"intopic\")\n",
        "    isolated_t0 = isolated_t0.drop(\"intopic\")\n",
        "  else:\n",
        "    isolated_t0 = isolated_t0.drop(\"intopic\")\n",
        "  # Iterate\n",
        "  iteration = 0\n",
        "  while True:\n",
        "    iteration += 1\n",
        "    if verbose:\n",
        "      print(\"Worker '\" + topic + \"': iteration \" + str(iteration))\n",
        "    # Join transition matrix with connected_t0 (on dst)\n",
        "    t_connected_0 = tm_mod.join(connected_t0.withColumnRenamed(\"id\", \"dst\"), \n",
        "                                        \"dst\", \n",
        "                                        how = \"left\")\n",
        "    # Compute rank for connected components\n",
        "    t_connected_1 = t_connected_0.withColumn(\"pageRank_i\", F.col(\"t_value\")*F.col(\"rank\"))\n",
        "    window = Window.partitionBy(\"id\").orderBy(\"id\")\n",
        "    connected_t1 = t_connected_1.select(t_connected_1.src.alias(\"id\"), \n",
        "                                        t_connected_1.intopic,\n",
        "                                        t_connected_1.pageRank_i) \\\n",
        "                                        .withColumn(\"row\", F.row_number().over(window)) \\\n",
        "                                        .withColumn(\"pageRank\", F.sum(F.col(\"pageRank_i\")).over(window))                                   \n",
        "    connected_t1 = connected_t1 \\\n",
        "      .where(F.col(\"row\")==1).select(\"id\", \"intopic\", \"pageRank\") \\\n",
        "      .withColumn(\"pageRank\", F.when(F.col(\"intopic\") == 1, \n",
        "                                     F.col(\"pageRank\") + ((1-beta)*1/set_count)) \\\n",
        "                              .otherwise(F.col(\"pageRank\"))) \\\n",
        "      .drop(\"intopic\")                          \n",
        "    # Compute distance\n",
        "    if iteration > 1:\n",
        "      sdiff_isolated = 0\n",
        "    delta = connected_t1.join(connected_t0, on = \"id\", how = \"left\") \\\n",
        "    .withColumn(\"row\", F.lit(1)) \\\n",
        "    .withColumn(\"delta\",\n",
        "                F.sum(F.pow(F.col(\"rank\") - F.col(\"pageRank\"), 2)).over(Window.partitionBy(\"row\"))) \\\n",
        "                .select(\"delta\").first()[0] + sdiff_isolated\n",
        "    delta = sqrt(delta)\n",
        "    # Check end conditions\n",
        "    max_iter_reached = True if n_iter is not None and iteration == n_iter else False\n",
        "    tol_ok = True if tolerance is not None and delta <= tolerance else False\n",
        "    if max_iter_reached or tol_ok:\n",
        "      if isolated_nodes_n > 0:\n",
        "        final = connected_t1.union(isolated_t1).select(F.col(\"id\"), F.col(\"pageRank\").alias(topic)).cache()\n",
        "      else:\n",
        "        final = connected_t1.select(F.col(\"id\"), F.col(\"pageRank\").alias(topic)).cache()\n",
        "      if verbose:\n",
        "        print(\"Worker '\" + topic + \"' done\")\n",
        "      tm_mod.unpersist()\n",
        "      isolated_t0.unpersist()\n",
        "      return final\n",
        "    else:\n",
        "      # Swap\n",
        "      connected_t0 = connected_t1.withColumnRenamed(\"pageRank\", \"rank\")\n",
        "  return None"
      ],
      "execution_count": null,
      "outputs": []
    },
    {
      "cell_type": "code",
      "metadata": {
        "id": "XT-5DGKEPMGL"
      },
      "source": [
        "def topic_sensitive_page_rank(graph : GraphFrame,\n",
        "                              topics = None, \n",
        "                              tolerance = 10e-6, \n",
        "                              n_iter = 100, \n",
        "                              beta = 0.85, \n",
        "                              verbose = True):\n",
        "  ''' Computes the topic-sensitive PageRank for each node in the input graph.\n",
        "\n",
        "  Implementation of the topic-sensitive version of PageRank. Topics should be\n",
        "  chosen between available movie genres.\n",
        "\n",
        "  Parameters\n",
        "  ----------\n",
        "  graph: GraphFrame\n",
        "    A graph object\n",
        "  topics: list\n",
        "    A list of movie genres of interest. If 'None' corresponds to\n",
        "    classical pageRank.\n",
        "  tolerance: positive number\n",
        "    Represents the tolerance threshold when checking the distance\n",
        "    between the pageRank at the previous step and the values at the\n",
        "    current step\n",
        "  n_iter: positive number\n",
        "    Maximum number of iterations. At least one between 'tolerance' and\n",
        "    'n_iter' must be provided.\n",
        "  beta: value between 0 and 1\n",
        "    Corresponds to the probability to follow an outgoing link,\n",
        "    the damping factor.\n",
        "  verbose: logical\n",
        "    If True displays messages on function status during execution\n",
        "\n",
        "  Returns\n",
        "  -------\n",
        "  A Spark DataFrame with nodes info and one column of PageRank values for\n",
        "  each topic in input\n",
        "  '''\n",
        "  import multiprocessing as ms\n",
        "  from functools import reduce\n",
        "  # Arg validation\n",
        "  if (tolerance == None and n_iter == None):\n",
        "    raise ValueError(\"At least one argument between 'tolerance' and 'n_iter' must be set\")\n",
        "  if (beta > 1 or beta < 0):\n",
        "    raise ValueError(\"'beta' must be a value between 0 and 1\")\n",
        "\n",
        "  if topics is None or len(topics) == 0:\n",
        "    return page_rank(graph, tolerance=tolerance, n_iter=n_iter, beta=beta, verbose=verbose)\n",
        "  # Get the out degree of each node\n",
        "  out_deg = graph.outDegrees\n",
        "  # Get the transition matrix in form of triples by applying a transformation to the edges df\n",
        "  if verbose:\n",
        "    print(\"Computing transition matrix...\")\n",
        "  transition_matrix = graph.edges \\\n",
        "  .join(out_deg.withColumnRenamed(\"id\", \"dst\"), \n",
        "                                   \"dst\", how = \"left\")\n",
        "  transition_matrix = transition_matrix.withColumn(\"t_value\", (1 / F.col(\"outDegree\")*beta)) \\\n",
        "  .select(\"src\", \"dst\", \"t_value\").cache() # beta*M\n",
        "  if verbose:\n",
        "    print(\"Launching workers...\")\n",
        "  pool = ms.pool.ThreadPool(len(topics))\n",
        "  arg_list = [(transition_matrix, graph.vertices, graph.edges, t, beta, n_iter, tolerance, verbose) for t in topics]\n",
        "  res = pool.starmap(_topic_rank, arg_list)\n",
        "  if verbose:\n",
        "    print(\"Workers finished, producing final data frame...\")\n",
        "  res = reduce(lambda x,y: x.join(y, \"id\", \"left\"), res)\n",
        "  res = graph.vertices.join(res, \"id\", how=\"left\").persist()\n",
        "  pool.close()\n",
        "  if verbose:\n",
        "    print(\"Finished!\")\n",
        "  transition_matrix.unpersist()\n",
        "  return res"
      ],
      "execution_count": null,
      "outputs": []
    },
    {
      "cell_type": "markdown",
      "metadata": {
        "id": "0jLPERVnzOh8"
      },
      "source": [
        "### Edge-weighted topic-sensitive PageRank\n",
        "Modification of the PageRank algorithm that allows PageRank computation on graphs with weighted edges."
      ]
    },
    {
      "cell_type": "code",
      "metadata": {
        "id": "8XtLMbf2Sm3A"
      },
      "source": [
        "def weighted_page_rank(graph : GraphFrame, \n",
        "                       weights = None,\n",
        "                       na_politic = 'min_value',\n",
        "                       tolerance = 10e-6, \n",
        "                       n_iter = 100, \n",
        "                       beta = 0.85, \n",
        "                       verbose = True):\n",
        "  ''' Computes an edge-weighted version of PageRank.\n",
        "\n",
        "  Weights are provided as a Spark DataFrame, if no weights are provided\n",
        "  the algorithm is equivalent to the base version of PageRank.\n",
        "\n",
        "  Parameters\n",
        "  ----------\n",
        "  graph: GraphFrame\n",
        "    A graph object\n",
        "  weights: either None (for non-weighted PageRank) or a Spark DataFrame\n",
        "    If a DataFrame is provided it should contain 2 columns named 'movie_id'\n",
        "    and 'weight'\n",
        "  na_politic: one between 'min_value' and 'drop'.\n",
        "    Influences how missing weights are treated - if 'min_value', NAs are \n",
        "    replaced with the minimum weight value found, otherwise the associatied movie\n",
        "    is filtered out, possibly removing associated edges\n",
        "  tolerance: positive number\n",
        "    Represents the tolerance threshold when checking the distance\n",
        "    between the pageRank at the previous step and the values at the\n",
        "    current step\n",
        "  n_iter: positive number\n",
        "    Maximum number of iterations. At least one between 'tolerance' and\n",
        "    'n_iter' must be provided.\n",
        "  beta: value between 0 and 1\n",
        "    Corresponds to the probability to follow an outgoing link,\n",
        "  verbose: logical\n",
        "    If True displays messages on function status during execution\n",
        "\n",
        "  Returns\n",
        "  -------\n",
        "  A Spark DataFrame\n",
        "  '''\n",
        "  from pyspark.sql import DataFrame\n",
        "  import multiprocessing as ms\n",
        "  from functools import reduce\n",
        "  from math import sqrt\n",
        "  # Arg validation\n",
        "  if (tolerance == None and n_iter == None):\n",
        "    raise ValueError(\"At least one argument between 'tolerance' and 'n_iter' must be set\")\n",
        "  if (beta > 1 or beta < 0):\n",
        "    raise ValueError(\"'beta' must be a value between 0 and 1\")\n",
        "  if weights is None:\n",
        "    weighted = False\n",
        "  elif isinstance(weights, DataFrame):\n",
        "    weighted = True\n",
        "  else:\n",
        "    raise ValueError(\"'weights' must be either 'None' or a DataFrame\")\n",
        "  if not weighted:\n",
        "    ## Internally call pr function\n",
        "    result = page_rank(graph = graph,\n",
        "                        tolerance = tolerance, \n",
        "                        n_iter = n_iter, \n",
        "                        beta = beta, \n",
        "                        verbose = verbose)\n",
        "    return result\n",
        "  if na_politic not in ['min_value', 'drop']:\n",
        "    print(\"Warning: unknown 'na_politic', using default value\")\n",
        "    na_politic = 'min_value'\n",
        "  if verbose:\n",
        "    print(\"Computing transition matrix...\")\n",
        "  # Assign weights to edges and compute transition matrix\n",
        "  window1 = Window.partitionBy(\"src\", \"dst\").orderBy(\"src\", \"dst\")\n",
        "  window2 = Window.partitionBy(\"dst\")\n",
        "  transition_matrix = graph.edges \\\n",
        "  .withColumn(\"movie_id\", F.explode(F.col(\"movie_ids\"))) \\\n",
        "  .withColumn(\"row\", F.row_number().over(window1)) \\\n",
        "  .join(weights, \"movie_id\", \"left\") \n",
        "  ## Dealing with missing weights\n",
        "  if na_politic == 'min_value':\n",
        "    min_weight = weights.agg({'weight':'min'}).collect()[0][0]\n",
        "    transition_matrix = transition_matrix.na.fill(value=min_weight, subset=['weight'])\n",
        "  else:\n",
        "    transition_matrix = transition_matrix.where(F.col(\"weight\").isNotNull())\n",
        "  transition_matrix = transition_matrix \\\n",
        "  .withColumn(\"weight\", F.sum(F.col(\"weight\")).over(window1)) \\\n",
        "  .where(F.col(\"row\") == 1) \\\n",
        "  .withColumn(\"out_weight\", F.sum(F.col(\"weight\")).over(window2)) \\\n",
        "  .withColumn(\"t_value\", beta*(F.col(\"weight\") / F.col(\"out_weight\"))) \\\n",
        "  .select(\"src\", \"dst\", \"t_value\").cache()\n",
        "  # Separating connected components\n",
        "  n_nodes = graph.vertices.count()\n",
        "  connected_t0 = graph.vertices.select(\"id\") \\\n",
        "    .join(graph.edges.select(F.col(\"src\").alias(\"id\")), \n",
        "          on = \"id\", how = \"leftsemi\") \\\n",
        "    .withColumn(\"rank\", F.lit(1 / n_nodes)).cache()\n",
        "  isolated_t0 = graph.vertices.select(\"id\") \\\n",
        "    .join(connected_t0, \"id\", how = \"leftanti\") \\\n",
        "    .withColumn(\"rank\", F.lit(1 / n_nodes)).cache()\n",
        "  isolated_nodes_n = isolated_t0.count()\n",
        "  sdiff_isolated = 0\n",
        "  if isolated_nodes_n > 0:\n",
        "    # Compute rank for isolated components and squared diff\n",
        "    isolated_t1 = isolated_t0.withColumn(\"pageRank\", F.lit((1-beta)*1/n_nodes))\n",
        "    sdiff_isolated = isolated_t1.withColumn(\"row\", F.lit(1)) \\\n",
        "    .withColumn(\"sdiff\", F.sum(F.pow(F.col(\"pageRank\") - F.col(\"rank\"), 2)).over(Window.partitionBy(\"row\"))) \\\n",
        "    .select(\"sdiff\").first()[0]\n",
        "    isolated_t1 = isolated_t1.drop(\"rank\").cache()\n",
        "  # Iterate\n",
        "  iteration = 0\n",
        "  while True:\n",
        "    iteration += 1\n",
        "    if verbose:\n",
        "      print(\"Iteration: \" + str(iteration))\n",
        "    # Join transition matrix with connected_t0 (on dst)\n",
        "    t_connected_0 = transition_matrix.join(connected_t0.withColumnRenamed(\"id\", \"dst\"), \"dst\", how = \"left\")\n",
        "    # Compute rank for connected components\n",
        "    t_connected_1 = t_connected_0.withColumn(\"pageRank_i\", F.col(\"t_value\")*F.col(\"rank\"))\n",
        "    window = Window.partitionBy(\"id\").orderBy(\"id\")\n",
        "    connected_t1 = t_connected_1.select(t_connected_1.src.alias(\"id\"), \n",
        "                                        t_connected_1.pageRank_i) \\\n",
        "                                        .withColumn(\"row\", F.row_number().over(window)) \\\n",
        "                                        .withColumn(\"pageRank\", F.sum(F.col(\"pageRank_i\")).over(window))                                   \n",
        "    connected_t1 = connected_t1 \\\n",
        "      .drop(\"pageRank_i\") \\\n",
        "      .where(F.col(\"row\")==1).select(\"id\", \"pageRank\") \\\n",
        "      .withColumn(\"pageRank\", F.col(\"pageRank\") + (1-beta)*1/n_nodes)                                \n",
        "    # Compute distance\n",
        "    if iteration > 1:\n",
        "      sdiff_isolated = 0\n",
        "    delta = connected_t1.join(connected_t0, on = \"id\", how = \"left\") \\\n",
        "    .withColumn(\"row\", F.lit(1)) \\\n",
        "    .withColumn(\"delta\",\n",
        "                F.sum(F.pow(F.col(\"rank\") - F.col(\"pageRank\"), 2)).over(Window.partitionBy(\"row\"))) \\\n",
        "                .select(\"delta\").first()[0] + sdiff_isolated\n",
        "    delta = sqrt(delta)\n",
        "    # Check end conditions\n",
        "    max_iter_reached = True if n_iter is not None and iteration == n_iter else False\n",
        "    tol_ok = True if tolerance is not None and delta <= tolerance else False\n",
        "    if max_iter_reached or tol_ok:\n",
        "      if isolated_nodes_n > 0:\n",
        "        final = graph.vertices.join(connected_t1.union(isolated_t1), \"id\").persist()\n",
        "        isolated_t1.unpersist()\n",
        "      else:\n",
        "        final = graph.vertices.join(connected_t1, \"id\").persist()\n",
        "      if verbose:\n",
        "        print(\"Finished\")\n",
        "      transition_matrix.unpersist()\n",
        "      connected_t0.unpersist()\n",
        "      isolated_t0.unpersist()\n",
        "      return final\n",
        "    else:\n",
        "      # Swap\n",
        "      connected_t0 = connected_t1.withColumnRenamed(\"pageRank\", \"rank\")\n",
        "  return None"
      ],
      "execution_count": null,
      "outputs": []
    },
    {
      "cell_type": "markdown",
      "metadata": {
        "id": "LS1zfmVTENPL"
      },
      "source": [
        "## Algorithm validation"
      ]
    },
    {
      "cell_type": "markdown",
      "metadata": {
        "id": "VX2XDTLaESXp"
      },
      "source": [
        "### Test data set\n",
        "Minimal data set used solely to validate algorithms"
      ]
    },
    {
      "cell_type": "code",
      "metadata": {
        "id": "aWp3sDX-EwT-"
      },
      "source": [
        "edges = spark.createDataFrame([\n",
        "   (1, 2, [\"m1\"]),\n",
        "   (2, 1, [\"m1\"]),\n",
        "   (1, 5, [\"m1\", \"m4\"]),\n",
        "   (5, 1, [\"m1\", \"m4\"]),\n",
        "   (5, 8, [\"m4\"]),\n",
        "   (8, 5, [\"m4\"]),\n",
        "   (8, 10, [\"m3\"]),\n",
        "   (10, 8, [\"m3\"]),\n",
        "   (2, 3, [\"m2\", \"m5\"]),\n",
        "   (3, 2, [\"m2\", \"m5\"]),\n",
        "   (2, 6, [\"m5\"]), \n",
        "   (6, 2, [\"m5\"]), \n",
        "   (6, 8, [\"m3\"]),\n",
        "   (8, 6, [\"m3\"]),\n",
        "   (6, 10, [\"m3\"]),\n",
        "   (10, 6, [\"m3\"]),\n",
        "   (6, 3, [\"m5\"]),\n",
        "   (3, 6, [\"m5\"]),\n",
        "   (3, 7, [\"m2\"]),\n",
        "   (7, 3, [\"m2\"]),\n",
        "   (2, 7, [\"m2\"]),\n",
        "   (7, 2, [\"m2\"]),\n",
        "   (3, 4, [\"m2\"]),\n",
        "   (4, 3, [\"m2\"]),\n",
        "   (4, 7, [\"m2\"]),\n",
        "   (7, 4, [\"m2\"]),\n",
        "   (2, 4, [\"m2\"]),\n",
        "   (4, 2, [\"m2\"]),\n",
        "   (1, 8, [\"m4\"]),\n",
        "   (8, 1, [\"m4\"])                      \n",
        "], [\"src\", \"dst\", \"movie_ids\"]).coalesce(1).persist()\n",
        "nodes = spark.createDataFrame([\n",
        "   (1, \"n01\", \"ACTOR1\", [\"Drama\", \"Romance\"]),\n",
        "   (2, \"n02\", \"ACTOR2\", [\"Drama\", \"Crime\", \"Thriller\", \"Horror\"]),\n",
        "   (3, \"n03\", \"ACTOR3\", [\"Crime\", \"Thriller\", \"Horror\"]),\n",
        "   (4, \"n04\", \"ACTOR4\", [\"Crime\", \"Thriller\"]),\n",
        "   (5, \"n05\", \"ACTOR5\", [\"Drama\", \"Romance\"]),\n",
        "   (6, \"n06\", \"ACTOR6\", [\"Crime\", \"Thriller\", \"Horror\", \"Comedy\", \"Animation\", \"Fantasy\"]),\n",
        "   (7, \"n07\", \"ACTOR7\", [\"Crime\", \"Thriller\"]),\n",
        "   (8, \"n08\", \"ACTOR8\", [\"Romance\", \"Drama\", \"Comedy\", \"Animation\", \"Fantasy\"]),\n",
        "   (9, \"n09\", \"ACTOR9\", [\"Drama\"]),\n",
        "   (10, \"n10\", \"ACTOR10\", [\"Comedy\", \"Animation\", \"Fantasy\"])                            \n",
        "], [\"id\", \"nconst\", \"primaryName\", \"genres\"]).coalesce(1).persist()\n",
        "weights_df = spark.createDataFrame([\n",
        "    (\"m1\", 43),\n",
        "    (\"m2\", 35),\n",
        "    (\"m3\", 14),\n",
        "    (\"m4\", 6),\n",
        "    (\"m5\", 70)                               \n",
        "], [\"movie_id\", \"weight\"]).coalesce(1).persist()\n",
        "test_graph = GraphFrame(v = nodes, e = edges).persist()"
      ],
      "execution_count": null,
      "outputs": []
    },
    {
      "cell_type": "markdown",
      "metadata": {
        "id": "Ia-b_CggFBmZ"
      },
      "source": [
        "### Validation of `page_rank`"
      ]
    },
    {
      "cell_type": "markdown",
      "metadata": {
        "id": "RSdp316JMmYL"
      },
      "source": [
        "Algorithm validation with test data and comparison with values calculated by `GraphFrames.pageRank()`."
      ]
    },
    {
      "cell_type": "code",
      "metadata": {
        "colab": {
          "base_uri": "https://localhost:8080/"
        },
        "id": "TnNscXFBFK56",
        "outputId": "8a8b324a-f36e-4ab7-ebc7-a9edb6b0e95f"
      },
      "source": [
        "pr_classic = page_rank(test_graph, n_iter=10, tolerance=10e-6)"
      ],
      "execution_count": null,
      "outputs": [
        {
          "output_type": "stream",
          "text": [
            "Computing transition matrix...\n",
            "Computing initial vectors for nodes...\n",
            "Starting cycle\n",
            "Iteration: 1\n",
            "Iteration: 2\n",
            "Iteration: 3\n",
            "Iteration: 4\n",
            "Iteration: 5\n",
            "Iteration: 6\n",
            "Iteration: 7\n",
            "Iteration: 8\n",
            "Iteration: 9\n",
            "Iteration: 10\n",
            "Finished\n"
          ],
          "name": "stdout"
        }
      ]
    },
    {
      "cell_type": "code",
      "metadata": {
        "id": "8TKupBWIFU7-"
      },
      "source": [
        "pr_gf = test_graph.pageRank(maxIter=10)"
      ],
      "execution_count": null,
      "outputs": []
    },
    {
      "cell_type": "code",
      "metadata": {
        "colab": {
          "base_uri": "https://localhost:8080/",
          "height": 542
        },
        "id": "898UpNp7FiOA",
        "outputId": "65e86113-aad0-4b71-8ac8-d9be18b48c31"
      },
      "source": [
        "p_pr_gf = pr_gf.vertices.withColumn(\"pageRank\", pr_gf.vertices.pagerank / pr_gf.vertices.count()).toPandas()\n",
        "p_pr_class = pr_classic.toPandas()\n",
        "p_pr_gf = (p_pr_gf.loc[:, [\"id\", \"pageRank\"]]).assign(alg = \"PR GraphFrames\")\n",
        "p_pr_class = (p_pr_class.loc[:, [\"id\", \"pageRank\"]]).assign(alg = \"PR Custom\")\n",
        "res_df = p_pr_gf.append(p_pr_class).sort_values(['id'])\n",
        "fig = px.line(res_df, x = \"id\", y = \"pageRank\", color = \"alg\", \n",
        "              title=\"Differences between PageRank values obtained with custom algorithm vs GraphFrames\", \n",
        "              labels = {'id' : 'Node id', 'pageRank': 'PageRank value', 'alg': 'Algorithm'})\n",
        "fig.show()"
      ],
      "execution_count": null,
      "outputs": [
        {
          "output_type": "display_data",
          "data": {
            "text/html": [
              "<html>\n",
              "<head><meta charset=\"utf-8\" /></head>\n",
              "<body>\n",
              "    <div>            <script src=\"https://cdnjs.cloudflare.com/ajax/libs/mathjax/2.7.5/MathJax.js?config=TeX-AMS-MML_SVG\"></script><script type=\"text/javascript\">if (window.MathJax) {MathJax.Hub.Config({SVG: {font: \"STIX-Web\"}});}</script>                <script type=\"text/javascript\">window.PlotlyConfig = {MathJaxConfig: 'local'};</script>\n",
              "        <script src=\"https://cdn.plot.ly/plotly-2.2.0.min.js\"></script>                <div id=\"73a72743-ed7a-4a6c-8a14-c3905642f854\" class=\"plotly-graph-div\" style=\"height:525px; width:100%;\"></div>            <script type=\"text/javascript\">                                    window.PLOTLYENV=window.PLOTLYENV || {};                                    if (document.getElementById(\"73a72743-ed7a-4a6c-8a14-c3905642f854\")) {                    Plotly.newPlot(                        \"73a72743-ed7a-4a6c-8a14-c3905642f854\",                        [{\"hovertemplate\":\"Algorithm=PR GraphFrames<br>Node id=%{x}<br>PageRank value=%{y}<extra></extra>\",\"legendgroup\":\"PR GraphFrames\",\"line\":{\"color\":\"#636efa\",\"dash\":\"solid\"},\"mode\":\"lines\",\"name\":\"PR GraphFrames\",\"orientation\":\"v\",\"showlegend\":true,\"type\":\"scatter\",\"x\":[1,2,3,4,5,6,7,8,9,10],\"xaxis\":\"x\",\"y\":[0.10287402892250815,0.1536957826886052,0.12426853517970679,0.09614112999305721,0.07430935724101524,0.1284780868654186,0.09614112999305721,0.1352424466135995,0.01639344262295082,0.07245605988008105],\"yaxis\":\"y\"},{\"hovertemplate\":\"Algorithm=PR Custom<br>Node id=%{x}<br>PageRank value=%{y}<extra></extra>\",\"legendgroup\":\"PR Custom\",\"line\":{\"color\":\"#EF553B\",\"dash\":\"solid\"},\"mode\":\"lines\",\"name\":\"PR Custom\",\"orientation\":\"v\",\"showlegend\":true,\"type\":\"scatter\",\"x\":[1,2,3,4,5,6,7,8,9,10],\"xaxis\":\"x\",\"y\":[0.09412973646409498,0.14063164116007382,0.11370570968943174,0.08796913394364736,0.06799306187552896,0.11755744948185806,0.08796913394364736,0.12374683865144359,0.015000000000000003,0.06629729479027417],\"yaxis\":\"y\"}],                        {\"legend\":{\"title\":{\"text\":\"Algorithm\"},\"tracegroupgap\":0},\"template\":{\"data\":{\"bar\":[{\"error_x\":{\"color\":\"#2a3f5f\"},\"error_y\":{\"color\":\"#2a3f5f\"},\"marker\":{\"line\":{\"color\":\"#E5ECF6\",\"width\":0.5},\"pattern\":{\"fillmode\":\"overlay\",\"size\":10,\"solidity\":0.2}},\"type\":\"bar\"}],\"barpolar\":[{\"marker\":{\"line\":{\"color\":\"#E5ECF6\",\"width\":0.5},\"pattern\":{\"fillmode\":\"overlay\",\"size\":10,\"solidity\":0.2}},\"type\":\"barpolar\"}],\"carpet\":[{\"aaxis\":{\"endlinecolor\":\"#2a3f5f\",\"gridcolor\":\"white\",\"linecolor\":\"white\",\"minorgridcolor\":\"white\",\"startlinecolor\":\"#2a3f5f\"},\"baxis\":{\"endlinecolor\":\"#2a3f5f\",\"gridcolor\":\"white\",\"linecolor\":\"white\",\"minorgridcolor\":\"white\",\"startlinecolor\":\"#2a3f5f\"},\"type\":\"carpet\"}],\"choropleth\":[{\"colorbar\":{\"outlinewidth\":0,\"ticks\":\"\"},\"type\":\"choropleth\"}],\"contour\":[{\"colorbar\":{\"outlinewidth\":0,\"ticks\":\"\"},\"colorscale\":[[0.0,\"#0d0887\"],[0.1111111111111111,\"#46039f\"],[0.2222222222222222,\"#7201a8\"],[0.3333333333333333,\"#9c179e\"],[0.4444444444444444,\"#bd3786\"],[0.5555555555555556,\"#d8576b\"],[0.6666666666666666,\"#ed7953\"],[0.7777777777777778,\"#fb9f3a\"],[0.8888888888888888,\"#fdca26\"],[1.0,\"#f0f921\"]],\"type\":\"contour\"}],\"contourcarpet\":[{\"colorbar\":{\"outlinewidth\":0,\"ticks\":\"\"},\"type\":\"contourcarpet\"}],\"heatmap\":[{\"colorbar\":{\"outlinewidth\":0,\"ticks\":\"\"},\"colorscale\":[[0.0,\"#0d0887\"],[0.1111111111111111,\"#46039f\"],[0.2222222222222222,\"#7201a8\"],[0.3333333333333333,\"#9c179e\"],[0.4444444444444444,\"#bd3786\"],[0.5555555555555556,\"#d8576b\"],[0.6666666666666666,\"#ed7953\"],[0.7777777777777778,\"#fb9f3a\"],[0.8888888888888888,\"#fdca26\"],[1.0,\"#f0f921\"]],\"type\":\"heatmap\"}],\"heatmapgl\":[{\"colorbar\":{\"outlinewidth\":0,\"ticks\":\"\"},\"colorscale\":[[0.0,\"#0d0887\"],[0.1111111111111111,\"#46039f\"],[0.2222222222222222,\"#7201a8\"],[0.3333333333333333,\"#9c179e\"],[0.4444444444444444,\"#bd3786\"],[0.5555555555555556,\"#d8576b\"],[0.6666666666666666,\"#ed7953\"],[0.7777777777777778,\"#fb9f3a\"],[0.8888888888888888,\"#fdca26\"],[1.0,\"#f0f921\"]],\"type\":\"heatmapgl\"}],\"histogram\":[{\"marker\":{\"pattern\":{\"fillmode\":\"overlay\",\"size\":10,\"solidity\":0.2}},\"type\":\"histogram\"}],\"histogram2d\":[{\"colorbar\":{\"outlinewidth\":0,\"ticks\":\"\"},\"colorscale\":[[0.0,\"#0d0887\"],[0.1111111111111111,\"#46039f\"],[0.2222222222222222,\"#7201a8\"],[0.3333333333333333,\"#9c179e\"],[0.4444444444444444,\"#bd3786\"],[0.5555555555555556,\"#d8576b\"],[0.6666666666666666,\"#ed7953\"],[0.7777777777777778,\"#fb9f3a\"],[0.8888888888888888,\"#fdca26\"],[1.0,\"#f0f921\"]],\"type\":\"histogram2d\"}],\"histogram2dcontour\":[{\"colorbar\":{\"outlinewidth\":0,\"ticks\":\"\"},\"colorscale\":[[0.0,\"#0d0887\"],[0.1111111111111111,\"#46039f\"],[0.2222222222222222,\"#7201a8\"],[0.3333333333333333,\"#9c179e\"],[0.4444444444444444,\"#bd3786\"],[0.5555555555555556,\"#d8576b\"],[0.6666666666666666,\"#ed7953\"],[0.7777777777777778,\"#fb9f3a\"],[0.8888888888888888,\"#fdca26\"],[1.0,\"#f0f921\"]],\"type\":\"histogram2dcontour\"}],\"mesh3d\":[{\"colorbar\":{\"outlinewidth\":0,\"ticks\":\"\"},\"type\":\"mesh3d\"}],\"parcoords\":[{\"line\":{\"colorbar\":{\"outlinewidth\":0,\"ticks\":\"\"}},\"type\":\"parcoords\"}],\"pie\":[{\"automargin\":true,\"type\":\"pie\"}],\"scatter\":[{\"marker\":{\"colorbar\":{\"outlinewidth\":0,\"ticks\":\"\"}},\"type\":\"scatter\"}],\"scatter3d\":[{\"line\":{\"colorbar\":{\"outlinewidth\":0,\"ticks\":\"\"}},\"marker\":{\"colorbar\":{\"outlinewidth\":0,\"ticks\":\"\"}},\"type\":\"scatter3d\"}],\"scattercarpet\":[{\"marker\":{\"colorbar\":{\"outlinewidth\":0,\"ticks\":\"\"}},\"type\":\"scattercarpet\"}],\"scattergeo\":[{\"marker\":{\"colorbar\":{\"outlinewidth\":0,\"ticks\":\"\"}},\"type\":\"scattergeo\"}],\"scattergl\":[{\"marker\":{\"colorbar\":{\"outlinewidth\":0,\"ticks\":\"\"}},\"type\":\"scattergl\"}],\"scattermapbox\":[{\"marker\":{\"colorbar\":{\"outlinewidth\":0,\"ticks\":\"\"}},\"type\":\"scattermapbox\"}],\"scatterpolar\":[{\"marker\":{\"colorbar\":{\"outlinewidth\":0,\"ticks\":\"\"}},\"type\":\"scatterpolar\"}],\"scatterpolargl\":[{\"marker\":{\"colorbar\":{\"outlinewidth\":0,\"ticks\":\"\"}},\"type\":\"scatterpolargl\"}],\"scatterternary\":[{\"marker\":{\"colorbar\":{\"outlinewidth\":0,\"ticks\":\"\"}},\"type\":\"scatterternary\"}],\"surface\":[{\"colorbar\":{\"outlinewidth\":0,\"ticks\":\"\"},\"colorscale\":[[0.0,\"#0d0887\"],[0.1111111111111111,\"#46039f\"],[0.2222222222222222,\"#7201a8\"],[0.3333333333333333,\"#9c179e\"],[0.4444444444444444,\"#bd3786\"],[0.5555555555555556,\"#d8576b\"],[0.6666666666666666,\"#ed7953\"],[0.7777777777777778,\"#fb9f3a\"],[0.8888888888888888,\"#fdca26\"],[1.0,\"#f0f921\"]],\"type\":\"surface\"}],\"table\":[{\"cells\":{\"fill\":{\"color\":\"#EBF0F8\"},\"line\":{\"color\":\"white\"}},\"header\":{\"fill\":{\"color\":\"#C8D4E3\"},\"line\":{\"color\":\"white\"}},\"type\":\"table\"}]},\"layout\":{\"annotationdefaults\":{\"arrowcolor\":\"#2a3f5f\",\"arrowhead\":0,\"arrowwidth\":1},\"autotypenumbers\":\"strict\",\"coloraxis\":{\"colorbar\":{\"outlinewidth\":0,\"ticks\":\"\"}},\"colorscale\":{\"diverging\":[[0,\"#8e0152\"],[0.1,\"#c51b7d\"],[0.2,\"#de77ae\"],[0.3,\"#f1b6da\"],[0.4,\"#fde0ef\"],[0.5,\"#f7f7f7\"],[0.6,\"#e6f5d0\"],[0.7,\"#b8e186\"],[0.8,\"#7fbc41\"],[0.9,\"#4d9221\"],[1,\"#276419\"]],\"sequential\":[[0.0,\"#0d0887\"],[0.1111111111111111,\"#46039f\"],[0.2222222222222222,\"#7201a8\"],[0.3333333333333333,\"#9c179e\"],[0.4444444444444444,\"#bd3786\"],[0.5555555555555556,\"#d8576b\"],[0.6666666666666666,\"#ed7953\"],[0.7777777777777778,\"#fb9f3a\"],[0.8888888888888888,\"#fdca26\"],[1.0,\"#f0f921\"]],\"sequentialminus\":[[0.0,\"#0d0887\"],[0.1111111111111111,\"#46039f\"],[0.2222222222222222,\"#7201a8\"],[0.3333333333333333,\"#9c179e\"],[0.4444444444444444,\"#bd3786\"],[0.5555555555555556,\"#d8576b\"],[0.6666666666666666,\"#ed7953\"],[0.7777777777777778,\"#fb9f3a\"],[0.8888888888888888,\"#fdca26\"],[1.0,\"#f0f921\"]]},\"colorway\":[\"#636efa\",\"#EF553B\",\"#00cc96\",\"#ab63fa\",\"#FFA15A\",\"#19d3f3\",\"#FF6692\",\"#B6E880\",\"#FF97FF\",\"#FECB52\"],\"font\":{\"color\":\"#2a3f5f\"},\"geo\":{\"bgcolor\":\"white\",\"lakecolor\":\"white\",\"landcolor\":\"#E5ECF6\",\"showlakes\":true,\"showland\":true,\"subunitcolor\":\"white\"},\"hoverlabel\":{\"align\":\"left\"},\"hovermode\":\"closest\",\"mapbox\":{\"style\":\"light\"},\"paper_bgcolor\":\"white\",\"plot_bgcolor\":\"#E5ECF6\",\"polar\":{\"angularaxis\":{\"gridcolor\":\"white\",\"linecolor\":\"white\",\"ticks\":\"\"},\"bgcolor\":\"#E5ECF6\",\"radialaxis\":{\"gridcolor\":\"white\",\"linecolor\":\"white\",\"ticks\":\"\"}},\"scene\":{\"xaxis\":{\"backgroundcolor\":\"#E5ECF6\",\"gridcolor\":\"white\",\"gridwidth\":2,\"linecolor\":\"white\",\"showbackground\":true,\"ticks\":\"\",\"zerolinecolor\":\"white\"},\"yaxis\":{\"backgroundcolor\":\"#E5ECF6\",\"gridcolor\":\"white\",\"gridwidth\":2,\"linecolor\":\"white\",\"showbackground\":true,\"ticks\":\"\",\"zerolinecolor\":\"white\"},\"zaxis\":{\"backgroundcolor\":\"#E5ECF6\",\"gridcolor\":\"white\",\"gridwidth\":2,\"linecolor\":\"white\",\"showbackground\":true,\"ticks\":\"\",\"zerolinecolor\":\"white\"}},\"shapedefaults\":{\"line\":{\"color\":\"#2a3f5f\"}},\"ternary\":{\"aaxis\":{\"gridcolor\":\"white\",\"linecolor\":\"white\",\"ticks\":\"\"},\"baxis\":{\"gridcolor\":\"white\",\"linecolor\":\"white\",\"ticks\":\"\"},\"bgcolor\":\"#E5ECF6\",\"caxis\":{\"gridcolor\":\"white\",\"linecolor\":\"white\",\"ticks\":\"\"}},\"title\":{\"x\":0.05},\"xaxis\":{\"automargin\":true,\"gridcolor\":\"white\",\"linecolor\":\"white\",\"ticks\":\"\",\"title\":{\"standoff\":15},\"zerolinecolor\":\"white\",\"zerolinewidth\":2},\"yaxis\":{\"automargin\":true,\"gridcolor\":\"white\",\"linecolor\":\"white\",\"ticks\":\"\",\"title\":{\"standoff\":15},\"zerolinecolor\":\"white\",\"zerolinewidth\":2}}},\"title\":{\"text\":\"Differences between PageRank values obtained with custom algorithm vs GraphFrames\"},\"xaxis\":{\"anchor\":\"y\",\"domain\":[0.0,1.0],\"title\":{\"text\":\"Node id\"}},\"yaxis\":{\"anchor\":\"x\",\"domain\":[0.0,1.0],\"title\":{\"text\":\"PageRank value\"}}},                        {\"responsive\": true}                    ).then(function(){\n",
              "                            \n",
              "var gd = document.getElementById('73a72743-ed7a-4a6c-8a14-c3905642f854');\n",
              "var x = new MutationObserver(function (mutations, observer) {{\n",
              "        var display = window.getComputedStyle(gd).display;\n",
              "        if (!display || display === 'none') {{\n",
              "            console.log([gd, 'removed!']);\n",
              "            Plotly.purge(gd);\n",
              "            observer.disconnect();\n",
              "        }}\n",
              "}});\n",
              "\n",
              "// Listen for the removal of the full notebook cells\n",
              "var notebookContainer = gd.closest('#notebook-container');\n",
              "if (notebookContainer) {{\n",
              "    x.observe(notebookContainer, {childList: true});\n",
              "}}\n",
              "\n",
              "// Listen for the clearing of the current output cell\n",
              "var outputEl = gd.closest('.output');\n",
              "if (outputEl) {{\n",
              "    x.observe(outputEl, {childList: true});\n",
              "}}\n",
              "\n",
              "                        })                };                            </script>        </div>\n",
              "</body>\n",
              "</html>"
            ]
          },
          "metadata": {
            "tags": []
          }
        }
      ]
    },
    {
      "cell_type": "markdown",
      "metadata": {
        "id": "QWRDyYrcwKeh"
      },
      "source": [
        "### Validation of `topic_sensitive_page_rank`"
      ]
    },
    {
      "cell_type": "code",
      "metadata": {
        "colab": {
          "base_uri": "https://localhost:8080/"
        },
        "id": "2KywzXtcwHrG",
        "outputId": "49de0a65-99f5-4096-b739-a79c70690dc2"
      },
      "source": [
        "ts_pr = topic_sensitive_page_rank(test_graph, topics = ['Drama', 'Thriller'], n_iter = 10, tolerance=10e-6)"
      ],
      "execution_count": null,
      "outputs": [
        {
          "output_type": "stream",
          "text": [
            "Computing transition matrix...\n",
            "Launching workers...\n",
            "Worker 'Drama' startedWorker 'Thriller' started\n",
            "\n",
            "Worker 'Thriller': iteration 1\n",
            "Worker 'Drama': iteration 1\n",
            "Worker 'Drama': iteration 2\n",
            "Worker 'Thriller': iteration 2\n",
            "Worker 'Thriller': iteration 3\n",
            "Worker 'Drama': iteration 3\n",
            "Worker 'Drama': iteration 4\n",
            "Worker 'Thriller': iteration 4\n",
            "Worker 'Drama': iteration 5\n",
            "Worker 'Thriller': iteration 5\n",
            "Worker 'Drama': iteration 6\n",
            "Worker 'Thriller': iteration 6\n",
            "Worker 'Thriller': iteration 7\n",
            "Worker 'Drama': iteration 7\n",
            "Worker 'Drama': iteration 8\n",
            "Worker 'Thriller': iteration 8\n",
            "Worker 'Thriller': iteration 9\n",
            "Worker 'Drama': iteration 9\n",
            "Worker 'Thriller': iteration 10\n",
            "Worker 'Drama': iteration 10\n",
            "Worker 'Drama' done\n",
            "Worker 'Thriller' done\n",
            "Workers finished, producing final data frame...\n",
            "Finished!\n"
          ],
          "name": "stdout"
        }
      ]
    },
    {
      "cell_type": "code",
      "metadata": {
        "id": "kgWDE4XTwcH4"
      },
      "source": [
        "ts_valid = pr_classic.join(ts_pr.drop(\"nconst\", \"primaryName\", \"genres\"), \"id\")\n",
        "ts_valid = ts_valid.withColumn(\"Pos_class\", F.row_number().over(Window.orderBy(F.col(\"pageRank\").desc()))) \\\n",
        ".withColumn(\"Pos_drama\", F.row_number().over(Window.orderBy(F.col(\"Drama\").desc()))) \\\n",
        ".withColumn(\"Pos_thriller\", F.row_number().over(Window.orderBy(F.col(\"Thriller\").desc()))) \\\n",
        ".drop(\"nconst\", \"primaryName\", \"genres\") \n",
        "ts_valid_pd = ts_valid.toPandas()\n",
        "ts_valid_pd_1 = ts_valid_pd[['id', 'pageRank', 'Drama', 'Thriller']].rename(columns = {\"pageRank\" : \"Classic PageRank\", \"Drama\": \"Topic -  Drama\", \"Thriller\": \"Topic - Thriller\"})\n",
        "ts_valid_pd_1 = ts_valid_pd_1.melt(id_vars=\"id\", var_name=\"Value type\", value_name=\"PageRank\")\n",
        "ts_valid_pd_2 = ts_valid_pd[['id', 'Pos_class', 'Pos_drama', 'Pos_thriller']] \\\n",
        ".rename(columns={'Pos_class': \"Classic PageRank\", 'Pos_drama': \"Topic -  Drama\", 'Pos_thriller': \"Topic - Thriller\"}) \\\n",
        ".melt(id_vars='id', var_name=\"Value type\", value_name='Position')\n",
        "ts_valid_pd = ts_valid_pd_1.merge(ts_valid_pd_2, on = ['id', 'Value type']).sort_values('Position')"
      ],
      "execution_count": null,
      "outputs": []
    },
    {
      "cell_type": "code",
      "metadata": {
        "colab": {
          "base_uri": "https://localhost:8080/",
          "height": 542
        },
        "id": "sb8ufrP4wvjU",
        "outputId": "26492dcb-a619-4a3c-ec1c-2911ae802228"
      },
      "source": [
        "fig2 = px.bar(ts_valid_pd, x=\"PageRank\", y=\"Position\",\n",
        "             orientation = 'h',\n",
        "             color='Value type', barmode='group', title = \"Comparison between classical PageRank values and topic-biased values\",\n",
        "             text = \"id\",\n",
        "             labels = {'PageRank' : 'PageRank value'}, width=900)\n",
        "fig2.update_yaxes(type='category', autorange=\"reversed\")\n",
        "fig2.update_traces(textposition='outside')\n",
        "fig2.update_layout(legend=dict(\n",
        "    orientation=\"v\",\n",
        "    yanchor=\"bottom\",\n",
        "    y=0,\n",
        "    xanchor=\"right\",\n",
        "    x=1\n",
        "))\n",
        "fig2.show()"
      ],
      "execution_count": null,
      "outputs": [
        {
          "output_type": "display_data",
          "data": {
            "text/html": [
              "<html>\n",
              "<head><meta charset=\"utf-8\" /></head>\n",
              "<body>\n",
              "    <div>            <script src=\"https://cdnjs.cloudflare.com/ajax/libs/mathjax/2.7.5/MathJax.js?config=TeX-AMS-MML_SVG\"></script><script type=\"text/javascript\">if (window.MathJax) {MathJax.Hub.Config({SVG: {font: \"STIX-Web\"}});}</script>                <script type=\"text/javascript\">window.PlotlyConfig = {MathJaxConfig: 'local'};</script>\n",
              "        <script src=\"https://cdn.plot.ly/plotly-2.2.0.min.js\"></script>                <div id=\"550a3f94-d0e6-4193-9d44-bece7c612ee6\" class=\"plotly-graph-div\" style=\"height:525px; width:900px;\"></div>            <script type=\"text/javascript\">                                    window.PLOTLYENV=window.PLOTLYENV || {};                                    if (document.getElementById(\"550a3f94-d0e6-4193-9d44-bece7c612ee6\")) {                    Plotly.newPlot(                        \"550a3f94-d0e6-4193-9d44-bece7c612ee6\",                        [{\"alignmentgroup\":\"True\",\"hovertemplate\":\"Value type=Classic PageRank<br>PageRank value=%{x}<br>Position=%{y}<br>id=%{text}<extra></extra>\",\"legendgroup\":\"Classic PageRank\",\"marker\":{\"color\":\"#636efa\",\"pattern\":{\"shape\":\"\"}},\"name\":\"Classic PageRank\",\"offsetgroup\":\"Classic PageRank\",\"orientation\":\"h\",\"showlegend\":true,\"text\":[\"2\",\"8\",\"6\",\"3\",\"1\",\"7\",\"4\",\"5\",\"10\",\"9\"],\"textposition\":\"outside\",\"type\":\"bar\",\"x\":[0.14063164116007382,0.12374683865144359,0.11755744948185806,0.11370570968943174,0.09412973646409498,0.08796913394364736,0.08796913394364736,0.06799306187552896,0.06629729479027417,0.015000000000000003],\"xaxis\":\"x\",\"y\":[1,2,3,4,5,6,7,8,9,10],\"yaxis\":\"y\"},{\"alignmentgroup\":\"True\",\"hovertemplate\":\"Value type=Topic - Thriller<br>PageRank value=%{x}<br>Position=%{y}<br>id=%{text}<extra></extra>\",\"legendgroup\":\"Topic - Thriller\",\"marker\":{\"color\":\"#EF553B\",\"pattern\":{\"shape\":\"\"}},\"name\":\"Topic - Thriller\",\"offsetgroup\":\"Topic - Thriller\",\"orientation\":\"h\",\"showlegend\":true,\"text\":[\"2\",\"3\",\"7\",\"4\",\"6\",\"8\",\"1\",\"10\",\"5\",\"9\"],\"textposition\":\"outside\",\"type\":\"bar\",\"x\":[0.19143658870595862,0.1696348201572014,0.13787162360032063,0.13787162360032063,0.13542409607526,0.08147443385644593,0.0648123801480469,0.04596997209013732,0.035504461766308615,0.0],\"xaxis\":\"x\",\"y\":[1,2,3,4,5,6,7,8,9,10],\"yaxis\":\"y\"},{\"alignmentgroup\":\"True\",\"hovertemplate\":\"Value type=Topic -  Drama<br>PageRank value=%{x}<br>Position=%{y}<br>id=%{text}<extra></extra>\",\"legendgroup\":\"Topic -  Drama\",\"marker\":{\"color\":\"#00cc96\",\"pattern\":{\"shape\":\"\"}},\"name\":\"Topic -  Drama\",\"offsetgroup\":\"Topic -  Drama\",\"orientation\":\"h\",\"showlegend\":true,\"text\":[\"8\",\"2\",\"1\",\"5\",\"6\",\"3\",\"7\",\"4\",\"10\",\"9\"],\"textposition\":\"outside\",\"type\":\"bar\",\"x\":[0.1462082579313617,0.12671176086059688,0.12361145416504754,0.09624669667603292,0.088419444616726,0.06858245224155768,0.05012918612667431,0.05012918612667431,0.049961561255328774,0.030000000000000006],\"xaxis\":\"x\",\"y\":[1,2,3,4,5,6,7,8,9,10],\"yaxis\":\"y\"}],                        {\"barmode\":\"group\",\"legend\":{\"orientation\":\"v\",\"title\":{\"text\":\"Value type\"},\"tracegroupgap\":0,\"x\":1,\"xanchor\":\"right\",\"y\":0,\"yanchor\":\"bottom\"},\"template\":{\"data\":{\"bar\":[{\"error_x\":{\"color\":\"#2a3f5f\"},\"error_y\":{\"color\":\"#2a3f5f\"},\"marker\":{\"line\":{\"color\":\"#E5ECF6\",\"width\":0.5},\"pattern\":{\"fillmode\":\"overlay\",\"size\":10,\"solidity\":0.2}},\"type\":\"bar\"}],\"barpolar\":[{\"marker\":{\"line\":{\"color\":\"#E5ECF6\",\"width\":0.5},\"pattern\":{\"fillmode\":\"overlay\",\"size\":10,\"solidity\":0.2}},\"type\":\"barpolar\"}],\"carpet\":[{\"aaxis\":{\"endlinecolor\":\"#2a3f5f\",\"gridcolor\":\"white\",\"linecolor\":\"white\",\"minorgridcolor\":\"white\",\"startlinecolor\":\"#2a3f5f\"},\"baxis\":{\"endlinecolor\":\"#2a3f5f\",\"gridcolor\":\"white\",\"linecolor\":\"white\",\"minorgridcolor\":\"white\",\"startlinecolor\":\"#2a3f5f\"},\"type\":\"carpet\"}],\"choropleth\":[{\"colorbar\":{\"outlinewidth\":0,\"ticks\":\"\"},\"type\":\"choropleth\"}],\"contour\":[{\"colorbar\":{\"outlinewidth\":0,\"ticks\":\"\"},\"colorscale\":[[0.0,\"#0d0887\"],[0.1111111111111111,\"#46039f\"],[0.2222222222222222,\"#7201a8\"],[0.3333333333333333,\"#9c179e\"],[0.4444444444444444,\"#bd3786\"],[0.5555555555555556,\"#d8576b\"],[0.6666666666666666,\"#ed7953\"],[0.7777777777777778,\"#fb9f3a\"],[0.8888888888888888,\"#fdca26\"],[1.0,\"#f0f921\"]],\"type\":\"contour\"}],\"contourcarpet\":[{\"colorbar\":{\"outlinewidth\":0,\"ticks\":\"\"},\"type\":\"contourcarpet\"}],\"heatmap\":[{\"colorbar\":{\"outlinewidth\":0,\"ticks\":\"\"},\"colorscale\":[[0.0,\"#0d0887\"],[0.1111111111111111,\"#46039f\"],[0.2222222222222222,\"#7201a8\"],[0.3333333333333333,\"#9c179e\"],[0.4444444444444444,\"#bd3786\"],[0.5555555555555556,\"#d8576b\"],[0.6666666666666666,\"#ed7953\"],[0.7777777777777778,\"#fb9f3a\"],[0.8888888888888888,\"#fdca26\"],[1.0,\"#f0f921\"]],\"type\":\"heatmap\"}],\"heatmapgl\":[{\"colorbar\":{\"outlinewidth\":0,\"ticks\":\"\"},\"colorscale\":[[0.0,\"#0d0887\"],[0.1111111111111111,\"#46039f\"],[0.2222222222222222,\"#7201a8\"],[0.3333333333333333,\"#9c179e\"],[0.4444444444444444,\"#bd3786\"],[0.5555555555555556,\"#d8576b\"],[0.6666666666666666,\"#ed7953\"],[0.7777777777777778,\"#fb9f3a\"],[0.8888888888888888,\"#fdca26\"],[1.0,\"#f0f921\"]],\"type\":\"heatmapgl\"}],\"histogram\":[{\"marker\":{\"pattern\":{\"fillmode\":\"overlay\",\"size\":10,\"solidity\":0.2}},\"type\":\"histogram\"}],\"histogram2d\":[{\"colorbar\":{\"outlinewidth\":0,\"ticks\":\"\"},\"colorscale\":[[0.0,\"#0d0887\"],[0.1111111111111111,\"#46039f\"],[0.2222222222222222,\"#7201a8\"],[0.3333333333333333,\"#9c179e\"],[0.4444444444444444,\"#bd3786\"],[0.5555555555555556,\"#d8576b\"],[0.6666666666666666,\"#ed7953\"],[0.7777777777777778,\"#fb9f3a\"],[0.8888888888888888,\"#fdca26\"],[1.0,\"#f0f921\"]],\"type\":\"histogram2d\"}],\"histogram2dcontour\":[{\"colorbar\":{\"outlinewidth\":0,\"ticks\":\"\"},\"colorscale\":[[0.0,\"#0d0887\"],[0.1111111111111111,\"#46039f\"],[0.2222222222222222,\"#7201a8\"],[0.3333333333333333,\"#9c179e\"],[0.4444444444444444,\"#bd3786\"],[0.5555555555555556,\"#d8576b\"],[0.6666666666666666,\"#ed7953\"],[0.7777777777777778,\"#fb9f3a\"],[0.8888888888888888,\"#fdca26\"],[1.0,\"#f0f921\"]],\"type\":\"histogram2dcontour\"}],\"mesh3d\":[{\"colorbar\":{\"outlinewidth\":0,\"ticks\":\"\"},\"type\":\"mesh3d\"}],\"parcoords\":[{\"line\":{\"colorbar\":{\"outlinewidth\":0,\"ticks\":\"\"}},\"type\":\"parcoords\"}],\"pie\":[{\"automargin\":true,\"type\":\"pie\"}],\"scatter\":[{\"marker\":{\"colorbar\":{\"outlinewidth\":0,\"ticks\":\"\"}},\"type\":\"scatter\"}],\"scatter3d\":[{\"line\":{\"colorbar\":{\"outlinewidth\":0,\"ticks\":\"\"}},\"marker\":{\"colorbar\":{\"outlinewidth\":0,\"ticks\":\"\"}},\"type\":\"scatter3d\"}],\"scattercarpet\":[{\"marker\":{\"colorbar\":{\"outlinewidth\":0,\"ticks\":\"\"}},\"type\":\"scattercarpet\"}],\"scattergeo\":[{\"marker\":{\"colorbar\":{\"outlinewidth\":0,\"ticks\":\"\"}},\"type\":\"scattergeo\"}],\"scattergl\":[{\"marker\":{\"colorbar\":{\"outlinewidth\":0,\"ticks\":\"\"}},\"type\":\"scattergl\"}],\"scattermapbox\":[{\"marker\":{\"colorbar\":{\"outlinewidth\":0,\"ticks\":\"\"}},\"type\":\"scattermapbox\"}],\"scatterpolar\":[{\"marker\":{\"colorbar\":{\"outlinewidth\":0,\"ticks\":\"\"}},\"type\":\"scatterpolar\"}],\"scatterpolargl\":[{\"marker\":{\"colorbar\":{\"outlinewidth\":0,\"ticks\":\"\"}},\"type\":\"scatterpolargl\"}],\"scatterternary\":[{\"marker\":{\"colorbar\":{\"outlinewidth\":0,\"ticks\":\"\"}},\"type\":\"scatterternary\"}],\"surface\":[{\"colorbar\":{\"outlinewidth\":0,\"ticks\":\"\"},\"colorscale\":[[0.0,\"#0d0887\"],[0.1111111111111111,\"#46039f\"],[0.2222222222222222,\"#7201a8\"],[0.3333333333333333,\"#9c179e\"],[0.4444444444444444,\"#bd3786\"],[0.5555555555555556,\"#d8576b\"],[0.6666666666666666,\"#ed7953\"],[0.7777777777777778,\"#fb9f3a\"],[0.8888888888888888,\"#fdca26\"],[1.0,\"#f0f921\"]],\"type\":\"surface\"}],\"table\":[{\"cells\":{\"fill\":{\"color\":\"#EBF0F8\"},\"line\":{\"color\":\"white\"}},\"header\":{\"fill\":{\"color\":\"#C8D4E3\"},\"line\":{\"color\":\"white\"}},\"type\":\"table\"}]},\"layout\":{\"annotationdefaults\":{\"arrowcolor\":\"#2a3f5f\",\"arrowhead\":0,\"arrowwidth\":1},\"autotypenumbers\":\"strict\",\"coloraxis\":{\"colorbar\":{\"outlinewidth\":0,\"ticks\":\"\"}},\"colorscale\":{\"diverging\":[[0,\"#8e0152\"],[0.1,\"#c51b7d\"],[0.2,\"#de77ae\"],[0.3,\"#f1b6da\"],[0.4,\"#fde0ef\"],[0.5,\"#f7f7f7\"],[0.6,\"#e6f5d0\"],[0.7,\"#b8e186\"],[0.8,\"#7fbc41\"],[0.9,\"#4d9221\"],[1,\"#276419\"]],\"sequential\":[[0.0,\"#0d0887\"],[0.1111111111111111,\"#46039f\"],[0.2222222222222222,\"#7201a8\"],[0.3333333333333333,\"#9c179e\"],[0.4444444444444444,\"#bd3786\"],[0.5555555555555556,\"#d8576b\"],[0.6666666666666666,\"#ed7953\"],[0.7777777777777778,\"#fb9f3a\"],[0.8888888888888888,\"#fdca26\"],[1.0,\"#f0f921\"]],\"sequentialminus\":[[0.0,\"#0d0887\"],[0.1111111111111111,\"#46039f\"],[0.2222222222222222,\"#7201a8\"],[0.3333333333333333,\"#9c179e\"],[0.4444444444444444,\"#bd3786\"],[0.5555555555555556,\"#d8576b\"],[0.6666666666666666,\"#ed7953\"],[0.7777777777777778,\"#fb9f3a\"],[0.8888888888888888,\"#fdca26\"],[1.0,\"#f0f921\"]]},\"colorway\":[\"#636efa\",\"#EF553B\",\"#00cc96\",\"#ab63fa\",\"#FFA15A\",\"#19d3f3\",\"#FF6692\",\"#B6E880\",\"#FF97FF\",\"#FECB52\"],\"font\":{\"color\":\"#2a3f5f\"},\"geo\":{\"bgcolor\":\"white\",\"lakecolor\":\"white\",\"landcolor\":\"#E5ECF6\",\"showlakes\":true,\"showland\":true,\"subunitcolor\":\"white\"},\"hoverlabel\":{\"align\":\"left\"},\"hovermode\":\"closest\",\"mapbox\":{\"style\":\"light\"},\"paper_bgcolor\":\"white\",\"plot_bgcolor\":\"#E5ECF6\",\"polar\":{\"angularaxis\":{\"gridcolor\":\"white\",\"linecolor\":\"white\",\"ticks\":\"\"},\"bgcolor\":\"#E5ECF6\",\"radialaxis\":{\"gridcolor\":\"white\",\"linecolor\":\"white\",\"ticks\":\"\"}},\"scene\":{\"xaxis\":{\"backgroundcolor\":\"#E5ECF6\",\"gridcolor\":\"white\",\"gridwidth\":2,\"linecolor\":\"white\",\"showbackground\":true,\"ticks\":\"\",\"zerolinecolor\":\"white\"},\"yaxis\":{\"backgroundcolor\":\"#E5ECF6\",\"gridcolor\":\"white\",\"gridwidth\":2,\"linecolor\":\"white\",\"showbackground\":true,\"ticks\":\"\",\"zerolinecolor\":\"white\"},\"zaxis\":{\"backgroundcolor\":\"#E5ECF6\",\"gridcolor\":\"white\",\"gridwidth\":2,\"linecolor\":\"white\",\"showbackground\":true,\"ticks\":\"\",\"zerolinecolor\":\"white\"}},\"shapedefaults\":{\"line\":{\"color\":\"#2a3f5f\"}},\"ternary\":{\"aaxis\":{\"gridcolor\":\"white\",\"linecolor\":\"white\",\"ticks\":\"\"},\"baxis\":{\"gridcolor\":\"white\",\"linecolor\":\"white\",\"ticks\":\"\"},\"bgcolor\":\"#E5ECF6\",\"caxis\":{\"gridcolor\":\"white\",\"linecolor\":\"white\",\"ticks\":\"\"}},\"title\":{\"x\":0.05},\"xaxis\":{\"automargin\":true,\"gridcolor\":\"white\",\"linecolor\":\"white\",\"ticks\":\"\",\"title\":{\"standoff\":15},\"zerolinecolor\":\"white\",\"zerolinewidth\":2},\"yaxis\":{\"automargin\":true,\"gridcolor\":\"white\",\"linecolor\":\"white\",\"ticks\":\"\",\"title\":{\"standoff\":15},\"zerolinecolor\":\"white\",\"zerolinewidth\":2}}},\"title\":{\"text\":\"Comparison between classical PageRank values and topic-biased values\"},\"width\":900,\"xaxis\":{\"anchor\":\"y\",\"domain\":[0.0,1.0],\"title\":{\"text\":\"PageRank value\"}},\"yaxis\":{\"anchor\":\"x\",\"autorange\":\"reversed\",\"domain\":[0.0,1.0],\"title\":{\"text\":\"Position\"},\"type\":\"category\"}},                        {\"responsive\": true}                    ).then(function(){\n",
              "                            \n",
              "var gd = document.getElementById('550a3f94-d0e6-4193-9d44-bece7c612ee6');\n",
              "var x = new MutationObserver(function (mutations, observer) {{\n",
              "        var display = window.getComputedStyle(gd).display;\n",
              "        if (!display || display === 'none') {{\n",
              "            console.log([gd, 'removed!']);\n",
              "            Plotly.purge(gd);\n",
              "            observer.disconnect();\n",
              "        }}\n",
              "}});\n",
              "\n",
              "// Listen for the removal of the full notebook cells\n",
              "var notebookContainer = gd.closest('#notebook-container');\n",
              "if (notebookContainer) {{\n",
              "    x.observe(notebookContainer, {childList: true});\n",
              "}}\n",
              "\n",
              "// Listen for the clearing of the current output cell\n",
              "var outputEl = gd.closest('.output');\n",
              "if (outputEl) {{\n",
              "    x.observe(outputEl, {childList: true});\n",
              "}}\n",
              "\n",
              "                        })                };                            </script>        </div>\n",
              "</body>\n",
              "</html>"
            ]
          },
          "metadata": {
            "tags": []
          }
        }
      ]
    },
    {
      "cell_type": "markdown",
      "metadata": {
        "id": "j9mbiUXHmMEN"
      },
      "source": [
        "### Validation of `weighted_page_rank`"
      ]
    },
    {
      "cell_type": "code",
      "metadata": {
        "colab": {
          "base_uri": "https://localhost:8080/"
        },
        "id": "FtDWv4BtmKt6",
        "outputId": "45f389e3-a6ca-4e46-ce6f-214c890cb3d6"
      },
      "source": [
        "w_pr = weighted_page_rank(test_graph, weights=weights_df,  n_iter=10, tolerance=10e-6)"
      ],
      "execution_count": null,
      "outputs": [
        {
          "output_type": "stream",
          "text": [
            "Computing transition matrix...\n",
            "Iteration: 1\n",
            "Iteration: 2\n",
            "Iteration: 3\n",
            "Iteration: 4\n",
            "Iteration: 5\n",
            "Iteration: 6\n",
            "Iteration: 7\n",
            "Iteration: 8\n",
            "Iteration: 9\n",
            "Iteration: 10\n",
            "Finished\n"
          ],
          "name": "stdout"
        }
      ]
    },
    {
      "cell_type": "code",
      "metadata": {
        "id": "A72o0X5moQzi"
      },
      "source": [
        "window_rank = Window.orderBy(F.col(\"pageRank\").desc())\n",
        "w_comp = w_pr.withColumn(\"alg\", F.lit(\"Weighted PR\")) \\\n",
        ".withColumn(\"Position\", F.row_number().over(window_rank)) \\\n",
        ".union(pr_classic.withColumn(\"alg\", F.lit(\"Classic PR\")) \\\n",
        "       .withColumn(\"Position\", F.row_number().over(window_rank))) \n",
        "w_comp = w_comp.toPandas().sort_values([\"Position\"], ascending = True)"
      ],
      "execution_count": null,
      "outputs": []
    },
    {
      "cell_type": "code",
      "metadata": {
        "colab": {
          "base_uri": "https://localhost:8080/",
          "height": 542
        },
        "id": "6IxSqwQHog86",
        "outputId": "968aff61-5956-4afb-bb69-bb7381356c95"
      },
      "source": [
        "fig3 = px.bar(w_comp, x=\"pageRank\", y=\"Position\",\n",
        "             orientation = 'h',\n",
        "             color='alg', barmode='group', title = \"Comparison between classical PageRank values and weighted values\",\n",
        "             text = \"id\",\n",
        "             labels = {'pageRank' : 'PageRank value', 'alg':'Algorithm'}, width=900)\n",
        "fig3.update_yaxes(type='category', autorange=\"reversed\")\n",
        "fig3.update_traces(textposition='outside')\n",
        "fig3.update_layout(legend=dict(\n",
        "    orientation=\"v\",\n",
        "    yanchor=\"bottom\",\n",
        "    y=0,\n",
        "    xanchor=\"right\",\n",
        "    x=1\n",
        "))\n",
        "fig3.show()"
      ],
      "execution_count": null,
      "outputs": [
        {
          "output_type": "display_data",
          "data": {
            "text/html": [
              "<html>\n",
              "<head><meta charset=\"utf-8\" /></head>\n",
              "<body>\n",
              "    <div>            <script src=\"https://cdnjs.cloudflare.com/ajax/libs/mathjax/2.7.5/MathJax.js?config=TeX-AMS-MML_SVG\"></script><script type=\"text/javascript\">if (window.MathJax) {MathJax.Hub.Config({SVG: {font: \"STIX-Web\"}});}</script>                <script type=\"text/javascript\">window.PlotlyConfig = {MathJaxConfig: 'local'};</script>\n",
              "        <script src=\"https://cdn.plot.ly/plotly-2.2.0.min.js\"></script>                <div id=\"fcc10e42-7dbc-4a91-b4f6-a07c99832fc7\" class=\"plotly-graph-div\" style=\"height:525px; width:900px;\"></div>            <script type=\"text/javascript\">                                    window.PLOTLYENV=window.PLOTLYENV || {};                                    if (document.getElementById(\"fcc10e42-7dbc-4a91-b4f6-a07c99832fc7\")) {                    Plotly.newPlot(                        \"fcc10e42-7dbc-4a91-b4f6-a07c99832fc7\",                        [{\"alignmentgroup\":\"True\",\"hovertemplate\":\"Algorithm=Weighted PR<br>PageRank value=%{x}<br>Position=%{y}<br>id=%{text}<extra></extra>\",\"legendgroup\":\"Weighted PR\",\"marker\":{\"color\":\"#636efa\",\"pattern\":{\"shape\":\"\"}},\"name\":\"Weighted PR\",\"offsetgroup\":\"Weighted PR\",\"orientation\":\"h\",\"showlegend\":true,\"text\":[\"2\",\"3\",\"6\",\"1\",\"4\",\"7\",\"5\",\"8\",\"10\",\"9\"],\"textposition\":\"outside\",\"type\":\"bar\",\"x\":[0.2010114796328216,0.16724817742779446,0.12921908354272732,0.09360398478224931,0.0781724718494917,0.0781724718494917,0.06152670238298684,0.05154150542412568,0.03950412310831142,0.015000000000000003],\"xaxis\":\"x\",\"y\":[1,2,3,4,5,6,7,8,9,10],\"yaxis\":\"y\"},{\"alignmentgroup\":\"True\",\"hovertemplate\":\"Algorithm=Classic PR<br>PageRank value=%{x}<br>Position=%{y}<br>id=%{text}<extra></extra>\",\"legendgroup\":\"Classic PR\",\"marker\":{\"color\":\"#EF553B\",\"pattern\":{\"shape\":\"\"}},\"name\":\"Classic PR\",\"offsetgroup\":\"Classic PR\",\"orientation\":\"h\",\"showlegend\":true,\"text\":[\"2\",\"8\",\"6\",\"3\",\"1\",\"4\",\"7\",\"5\",\"10\",\"9\"],\"textposition\":\"outside\",\"type\":\"bar\",\"x\":[0.14063164116007382,0.12374683865144359,0.11755744948185806,0.11370570968943174,0.09412973646409498,0.08796913394364736,0.08796913394364736,0.06799306187552896,0.06629729479027417,0.015000000000000003],\"xaxis\":\"x\",\"y\":[1,2,3,4,5,6,7,8,9,10],\"yaxis\":\"y\"}],                        {\"barmode\":\"group\",\"legend\":{\"orientation\":\"v\",\"title\":{\"text\":\"Algorithm\"},\"tracegroupgap\":0,\"x\":1,\"xanchor\":\"right\",\"y\":0,\"yanchor\":\"bottom\"},\"template\":{\"data\":{\"bar\":[{\"error_x\":{\"color\":\"#2a3f5f\"},\"error_y\":{\"color\":\"#2a3f5f\"},\"marker\":{\"line\":{\"color\":\"#E5ECF6\",\"width\":0.5},\"pattern\":{\"fillmode\":\"overlay\",\"size\":10,\"solidity\":0.2}},\"type\":\"bar\"}],\"barpolar\":[{\"marker\":{\"line\":{\"color\":\"#E5ECF6\",\"width\":0.5},\"pattern\":{\"fillmode\":\"overlay\",\"size\":10,\"solidity\":0.2}},\"type\":\"barpolar\"}],\"carpet\":[{\"aaxis\":{\"endlinecolor\":\"#2a3f5f\",\"gridcolor\":\"white\",\"linecolor\":\"white\",\"minorgridcolor\":\"white\",\"startlinecolor\":\"#2a3f5f\"},\"baxis\":{\"endlinecolor\":\"#2a3f5f\",\"gridcolor\":\"white\",\"linecolor\":\"white\",\"minorgridcolor\":\"white\",\"startlinecolor\":\"#2a3f5f\"},\"type\":\"carpet\"}],\"choropleth\":[{\"colorbar\":{\"outlinewidth\":0,\"ticks\":\"\"},\"type\":\"choropleth\"}],\"contour\":[{\"colorbar\":{\"outlinewidth\":0,\"ticks\":\"\"},\"colorscale\":[[0.0,\"#0d0887\"],[0.1111111111111111,\"#46039f\"],[0.2222222222222222,\"#7201a8\"],[0.3333333333333333,\"#9c179e\"],[0.4444444444444444,\"#bd3786\"],[0.5555555555555556,\"#d8576b\"],[0.6666666666666666,\"#ed7953\"],[0.7777777777777778,\"#fb9f3a\"],[0.8888888888888888,\"#fdca26\"],[1.0,\"#f0f921\"]],\"type\":\"contour\"}],\"contourcarpet\":[{\"colorbar\":{\"outlinewidth\":0,\"ticks\":\"\"},\"type\":\"contourcarpet\"}],\"heatmap\":[{\"colorbar\":{\"outlinewidth\":0,\"ticks\":\"\"},\"colorscale\":[[0.0,\"#0d0887\"],[0.1111111111111111,\"#46039f\"],[0.2222222222222222,\"#7201a8\"],[0.3333333333333333,\"#9c179e\"],[0.4444444444444444,\"#bd3786\"],[0.5555555555555556,\"#d8576b\"],[0.6666666666666666,\"#ed7953\"],[0.7777777777777778,\"#fb9f3a\"],[0.8888888888888888,\"#fdca26\"],[1.0,\"#f0f921\"]],\"type\":\"heatmap\"}],\"heatmapgl\":[{\"colorbar\":{\"outlinewidth\":0,\"ticks\":\"\"},\"colorscale\":[[0.0,\"#0d0887\"],[0.1111111111111111,\"#46039f\"],[0.2222222222222222,\"#7201a8\"],[0.3333333333333333,\"#9c179e\"],[0.4444444444444444,\"#bd3786\"],[0.5555555555555556,\"#d8576b\"],[0.6666666666666666,\"#ed7953\"],[0.7777777777777778,\"#fb9f3a\"],[0.8888888888888888,\"#fdca26\"],[1.0,\"#f0f921\"]],\"type\":\"heatmapgl\"}],\"histogram\":[{\"marker\":{\"pattern\":{\"fillmode\":\"overlay\",\"size\":10,\"solidity\":0.2}},\"type\":\"histogram\"}],\"histogram2d\":[{\"colorbar\":{\"outlinewidth\":0,\"ticks\":\"\"},\"colorscale\":[[0.0,\"#0d0887\"],[0.1111111111111111,\"#46039f\"],[0.2222222222222222,\"#7201a8\"],[0.3333333333333333,\"#9c179e\"],[0.4444444444444444,\"#bd3786\"],[0.5555555555555556,\"#d8576b\"],[0.6666666666666666,\"#ed7953\"],[0.7777777777777778,\"#fb9f3a\"],[0.8888888888888888,\"#fdca26\"],[1.0,\"#f0f921\"]],\"type\":\"histogram2d\"}],\"histogram2dcontour\":[{\"colorbar\":{\"outlinewidth\":0,\"ticks\":\"\"},\"colorscale\":[[0.0,\"#0d0887\"],[0.1111111111111111,\"#46039f\"],[0.2222222222222222,\"#7201a8\"],[0.3333333333333333,\"#9c179e\"],[0.4444444444444444,\"#bd3786\"],[0.5555555555555556,\"#d8576b\"],[0.6666666666666666,\"#ed7953\"],[0.7777777777777778,\"#fb9f3a\"],[0.8888888888888888,\"#fdca26\"],[1.0,\"#f0f921\"]],\"type\":\"histogram2dcontour\"}],\"mesh3d\":[{\"colorbar\":{\"outlinewidth\":0,\"ticks\":\"\"},\"type\":\"mesh3d\"}],\"parcoords\":[{\"line\":{\"colorbar\":{\"outlinewidth\":0,\"ticks\":\"\"}},\"type\":\"parcoords\"}],\"pie\":[{\"automargin\":true,\"type\":\"pie\"}],\"scatter\":[{\"marker\":{\"colorbar\":{\"outlinewidth\":0,\"ticks\":\"\"}},\"type\":\"scatter\"}],\"scatter3d\":[{\"line\":{\"colorbar\":{\"outlinewidth\":0,\"ticks\":\"\"}},\"marker\":{\"colorbar\":{\"outlinewidth\":0,\"ticks\":\"\"}},\"type\":\"scatter3d\"}],\"scattercarpet\":[{\"marker\":{\"colorbar\":{\"outlinewidth\":0,\"ticks\":\"\"}},\"type\":\"scattercarpet\"}],\"scattergeo\":[{\"marker\":{\"colorbar\":{\"outlinewidth\":0,\"ticks\":\"\"}},\"type\":\"scattergeo\"}],\"scattergl\":[{\"marker\":{\"colorbar\":{\"outlinewidth\":0,\"ticks\":\"\"}},\"type\":\"scattergl\"}],\"scattermapbox\":[{\"marker\":{\"colorbar\":{\"outlinewidth\":0,\"ticks\":\"\"}},\"type\":\"scattermapbox\"}],\"scatterpolar\":[{\"marker\":{\"colorbar\":{\"outlinewidth\":0,\"ticks\":\"\"}},\"type\":\"scatterpolar\"}],\"scatterpolargl\":[{\"marker\":{\"colorbar\":{\"outlinewidth\":0,\"ticks\":\"\"}},\"type\":\"scatterpolargl\"}],\"scatterternary\":[{\"marker\":{\"colorbar\":{\"outlinewidth\":0,\"ticks\":\"\"}},\"type\":\"scatterternary\"}],\"surface\":[{\"colorbar\":{\"outlinewidth\":0,\"ticks\":\"\"},\"colorscale\":[[0.0,\"#0d0887\"],[0.1111111111111111,\"#46039f\"],[0.2222222222222222,\"#7201a8\"],[0.3333333333333333,\"#9c179e\"],[0.4444444444444444,\"#bd3786\"],[0.5555555555555556,\"#d8576b\"],[0.6666666666666666,\"#ed7953\"],[0.7777777777777778,\"#fb9f3a\"],[0.8888888888888888,\"#fdca26\"],[1.0,\"#f0f921\"]],\"type\":\"surface\"}],\"table\":[{\"cells\":{\"fill\":{\"color\":\"#EBF0F8\"},\"line\":{\"color\":\"white\"}},\"header\":{\"fill\":{\"color\":\"#C8D4E3\"},\"line\":{\"color\":\"white\"}},\"type\":\"table\"}]},\"layout\":{\"annotationdefaults\":{\"arrowcolor\":\"#2a3f5f\",\"arrowhead\":0,\"arrowwidth\":1},\"autotypenumbers\":\"strict\",\"coloraxis\":{\"colorbar\":{\"outlinewidth\":0,\"ticks\":\"\"}},\"colorscale\":{\"diverging\":[[0,\"#8e0152\"],[0.1,\"#c51b7d\"],[0.2,\"#de77ae\"],[0.3,\"#f1b6da\"],[0.4,\"#fde0ef\"],[0.5,\"#f7f7f7\"],[0.6,\"#e6f5d0\"],[0.7,\"#b8e186\"],[0.8,\"#7fbc41\"],[0.9,\"#4d9221\"],[1,\"#276419\"]],\"sequential\":[[0.0,\"#0d0887\"],[0.1111111111111111,\"#46039f\"],[0.2222222222222222,\"#7201a8\"],[0.3333333333333333,\"#9c179e\"],[0.4444444444444444,\"#bd3786\"],[0.5555555555555556,\"#d8576b\"],[0.6666666666666666,\"#ed7953\"],[0.7777777777777778,\"#fb9f3a\"],[0.8888888888888888,\"#fdca26\"],[1.0,\"#f0f921\"]],\"sequentialminus\":[[0.0,\"#0d0887\"],[0.1111111111111111,\"#46039f\"],[0.2222222222222222,\"#7201a8\"],[0.3333333333333333,\"#9c179e\"],[0.4444444444444444,\"#bd3786\"],[0.5555555555555556,\"#d8576b\"],[0.6666666666666666,\"#ed7953\"],[0.7777777777777778,\"#fb9f3a\"],[0.8888888888888888,\"#fdca26\"],[1.0,\"#f0f921\"]]},\"colorway\":[\"#636efa\",\"#EF553B\",\"#00cc96\",\"#ab63fa\",\"#FFA15A\",\"#19d3f3\",\"#FF6692\",\"#B6E880\",\"#FF97FF\",\"#FECB52\"],\"font\":{\"color\":\"#2a3f5f\"},\"geo\":{\"bgcolor\":\"white\",\"lakecolor\":\"white\",\"landcolor\":\"#E5ECF6\",\"showlakes\":true,\"showland\":true,\"subunitcolor\":\"white\"},\"hoverlabel\":{\"align\":\"left\"},\"hovermode\":\"closest\",\"mapbox\":{\"style\":\"light\"},\"paper_bgcolor\":\"white\",\"plot_bgcolor\":\"#E5ECF6\",\"polar\":{\"angularaxis\":{\"gridcolor\":\"white\",\"linecolor\":\"white\",\"ticks\":\"\"},\"bgcolor\":\"#E5ECF6\",\"radialaxis\":{\"gridcolor\":\"white\",\"linecolor\":\"white\",\"ticks\":\"\"}},\"scene\":{\"xaxis\":{\"backgroundcolor\":\"#E5ECF6\",\"gridcolor\":\"white\",\"gridwidth\":2,\"linecolor\":\"white\",\"showbackground\":true,\"ticks\":\"\",\"zerolinecolor\":\"white\"},\"yaxis\":{\"backgroundcolor\":\"#E5ECF6\",\"gridcolor\":\"white\",\"gridwidth\":2,\"linecolor\":\"white\",\"showbackground\":true,\"ticks\":\"\",\"zerolinecolor\":\"white\"},\"zaxis\":{\"backgroundcolor\":\"#E5ECF6\",\"gridcolor\":\"white\",\"gridwidth\":2,\"linecolor\":\"white\",\"showbackground\":true,\"ticks\":\"\",\"zerolinecolor\":\"white\"}},\"shapedefaults\":{\"line\":{\"color\":\"#2a3f5f\"}},\"ternary\":{\"aaxis\":{\"gridcolor\":\"white\",\"linecolor\":\"white\",\"ticks\":\"\"},\"baxis\":{\"gridcolor\":\"white\",\"linecolor\":\"white\",\"ticks\":\"\"},\"bgcolor\":\"#E5ECF6\",\"caxis\":{\"gridcolor\":\"white\",\"linecolor\":\"white\",\"ticks\":\"\"}},\"title\":{\"x\":0.05},\"xaxis\":{\"automargin\":true,\"gridcolor\":\"white\",\"linecolor\":\"white\",\"ticks\":\"\",\"title\":{\"standoff\":15},\"zerolinecolor\":\"white\",\"zerolinewidth\":2},\"yaxis\":{\"automargin\":true,\"gridcolor\":\"white\",\"linecolor\":\"white\",\"ticks\":\"\",\"title\":{\"standoff\":15},\"zerolinecolor\":\"white\",\"zerolinewidth\":2}}},\"title\":{\"text\":\"Comparison between classical PageRank values and weighted values\"},\"width\":900,\"xaxis\":{\"anchor\":\"y\",\"domain\":[0.0,1.0],\"title\":{\"text\":\"PageRank value\"}},\"yaxis\":{\"anchor\":\"x\",\"autorange\":\"reversed\",\"domain\":[0.0,1.0],\"title\":{\"text\":\"Position\"},\"type\":\"category\"}},                        {\"responsive\": true}                    ).then(function(){\n",
              "                            \n",
              "var gd = document.getElementById('fcc10e42-7dbc-4a91-b4f6-a07c99832fc7');\n",
              "var x = new MutationObserver(function (mutations, observer) {{\n",
              "        var display = window.getComputedStyle(gd).display;\n",
              "        if (!display || display === 'none') {{\n",
              "            console.log([gd, 'removed!']);\n",
              "            Plotly.purge(gd);\n",
              "            observer.disconnect();\n",
              "        }}\n",
              "}});\n",
              "\n",
              "// Listen for the removal of the full notebook cells\n",
              "var notebookContainer = gd.closest('#notebook-container');\n",
              "if (notebookContainer) {{\n",
              "    x.observe(notebookContainer, {childList: true});\n",
              "}}\n",
              "\n",
              "// Listen for the clearing of the current output cell\n",
              "var outputEl = gd.closest('.output');\n",
              "if (outputEl) {{\n",
              "    x.observe(outputEl, {childList: true});\n",
              "}}\n",
              "\n",
              "                        })                };                            </script>        </div>\n",
              "</body>\n",
              "</html>"
            ]
          },
          "metadata": {
            "tags": []
          }
        }
      ]
    },
    {
      "cell_type": "code",
      "metadata": {
        "id": "hdEBeAUnOA67"
      },
      "source": [
        "spark.stop()"
      ],
      "execution_count": null,
      "outputs": []
    },
    {
      "cell_type": "markdown",
      "metadata": {
        "id": "MuZR27HuKtV0"
      },
      "source": [
        "## Data import and data cleaning\n",
        "\n"
      ]
    },
    {
      "cell_type": "markdown",
      "metadata": {
        "id": "yoXjcw75H-AH"
      },
      "source": [
        "In the context of this project we're going to use the [IMDb dataset](https://www.kaggle.com/ashirwadsangwan/imdb-dataset) from [Kaggle](https://www.kaggle.com/). To download it from the website we're going to use the [Kaggle API](https://github.com/Kaggle/kaggle-api)."
      ]
    },
    {
      "cell_type": "markdown",
      "metadata": {
        "id": "f2cEEvnx550J"
      },
      "source": [
        "To be able to download the dataset we need credentials stored in a file called `kaggle.json`. Here are the steps to obtain the credentials file:\n",
        "\n",
        "\n",
        "1.   Login to your Kaggle account\n",
        "2.   On the top-right part of the screen, click on your profile image and select \"Account\"\n",
        "3. Scroll down the page until you find the section \"API\" and click on \"Create new API token\". A download of a json file with your credentials will start. \n",
        "\n",
        "Now run the next code chunk and upload the file.\n"
      ]
    },
    {
      "cell_type": "code",
      "metadata": {
        "colab": {
          "resources": {
            "http://localhost:8080/nbextensions/google.colab/files.js": {
              "data": "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",
              "headers": [
                [
                  "content-type",
                  "application/javascript"
                ]
              ],
              "ok": true,
              "status": 200,
              "status_text": ""
            }
          },
          "base_uri": "https://localhost:8080/",
          "height": 73
        },
        "id": "eBYcfRtJ92Kn",
        "outputId": "ede572ef-acdf-4aed-e4db-9e8cff8d78ea"
      },
      "source": [
        "from google.colab import files\n",
        "\n",
        "uploaded = files.upload()\n",
        "  \n",
        "!mkdir -p ~/.kaggle/ && mv kaggle.json ~/.kaggle/ && chmod 600 ~/.kaggle/kaggle.json"
      ],
      "execution_count": null,
      "outputs": [
        {
          "output_type": "display_data",
          "data": {
            "text/html": [
              "\n",
              "     <input type=\"file\" id=\"files-62019a28-a1f7-4531-879e-fbba93f88527\" name=\"files[]\" multiple disabled\n",
              "        style=\"border:none\" />\n",
              "     <output id=\"result-62019a28-a1f7-4531-879e-fbba93f88527\">\n",
              "      Upload widget is only available when the cell has been executed in the\n",
              "      current browser session. Please rerun this cell to enable.\n",
              "      </output>\n",
              "      <script src=\"/nbextensions/google.colab/files.js\"></script> "
            ],
            "text/plain": [
              "<IPython.core.display.HTML object>"
            ]
          },
          "metadata": {
            "tags": []
          }
        },
        {
          "output_type": "stream",
          "text": [
            "Saving kaggle.json to kaggle.json\n"
          ],
          "name": "stdout"
        }
      ]
    },
    {
      "cell_type": "code",
      "metadata": {
        "colab": {
          "base_uri": "https://localhost:8080/"
        },
        "id": "pEokbQHt99Z8",
        "outputId": "10865184-c6cf-4307-b30f-0e4e2f8d2cad"
      },
      "source": [
        "!kaggle datasets download \"ashirwadsangwan/imdb-dataset\"\n",
        "!unzip -jq imdb-dataset.zip -d ."
      ],
      "execution_count": null,
      "outputs": [
        {
          "output_type": "stream",
          "text": [
            "Downloading imdb-dataset.zip to /content\n",
            "100% 1.43G/1.44G [00:14<00:00, 124MB/s]\n",
            "100% 1.44G/1.44G [00:15<00:00, 103MB/s]\n"
          ],
          "name": "stdout"
        }
      ]
    },
    {
      "cell_type": "markdown",
      "metadata": {
        "id": "qR97JMWDA69l"
      },
      "source": [
        "Let us now import the datasets we're going to use for this project. The original IMDb dataset contains 5 separate tables:\n",
        "\n",
        "\n",
        "*   name.basics: contains information about people (actors, writers, producers...)\n",
        "*   title.basics: contains information about works (movies, books, ...)\n",
        "*   title.akas: contains additional information about works\n",
        "*   title.principals: contains relationships between people and works\n",
        "*   title.ratings: contains user ratings for works\n",
        "\n",
        "For the purpose of this project we're going to take into consideration only:\n",
        "\n",
        "* **name.basics**, in particular only relevant information about actors\n",
        "* **title.basics**, in particular only relevant information about movies\n",
        "* **title.principals**, in particular only relevant relationships between actors and movies\n",
        "* **title.ratings**, for usage in a weighted implementation of PageRank algorithm"
      ]
    },
    {
      "cell_type": "code",
      "metadata": {
        "id": "OzXhwC0qGmR0"
      },
      "source": [
        "# Get an optimized SparkSession for bigger dataset\n",
        "spark = SparkSession.builder \\\n",
        ".master(\"local[*]\") \\\n",
        ".config(\"spark.sql.shuffle.partitions\", \"100\") \\\n",
        ".config(\"spark.sql.autoBroadcastJoinThreshold\", \"-1\") \\\n",
        ".getOrCreate()"
      ],
      "execution_count": null,
      "outputs": []
    },
    {
      "cell_type": "markdown",
      "metadata": {
        "id": "91dku5uXOjax"
      },
      "source": [
        "Let us now read the *.tsv files directly in Spark DataFrames."
      ]
    },
    {
      "cell_type": "code",
      "metadata": {
        "id": "j4dKD8HdNhRo"
      },
      "source": [
        "# Contains info about movies\n",
        "movies_df_schema = StructType() \\\n",
        ".add(\"tconst\", StringType(), False) \\\n",
        ".add(\"titleType\", StringType(), False) \\\n",
        ".add(\"primaryTitle\", StringType(), False) \\\n",
        ".add(\"originalTitle\", StringType(), False) \\\n",
        ".add(\"isAdult\", ByteType(), False) \\\n",
        ".add(\"startYear\", IntegerType(), True) \\\n",
        ".add(\"endYear\", IntegerType(), True) \\\n",
        ".add(\"runtimeMinutes\", IntegerType(), True) \\\n",
        ".add(\"genres\", StringType(), True)\n",
        "movies_df = spark.read.format(\"csv\") \\\n",
        "                      .option(\"header\", \"true\") \\\n",
        "                      .option(\"delimiter\", \"\\t\") \\\n",
        "                      .schema(movies_df_schema) \\\n",
        "                      .load(\"title.basics.tsv.gz\")\n",
        "movies_df = movies_df \\\n",
        "  .replace({'\\\\N': None}) \\\n",
        "  .filter(movies_df.titleType.isin([\"movie\", \"tvMovie\"])).cache()"
      ],
      "execution_count": null,
      "outputs": []
    },
    {
      "cell_type": "code",
      "metadata": {
        "id": "dDMrYl5Lrev_"
      },
      "source": [
        "# Contains info about actors\n",
        "names_df_schema = StructType() \\\n",
        ".add(\"nconst\", StringType(), False) \\\n",
        ".add(\"primaryName\", StringType(), False) \\\n",
        ".add(\"birthYear\", IntegerType(), True) \\\n",
        ".add(\"deathYear\", IntegerType(), True) \\\n",
        ".add(\"primaryProfession\", StringType(), True) \\\n",
        ".add(\"knownForTitles\", StringType(), True)\n",
        "names_df = spark.read.format(\"csv\") \\\n",
        "                      .option(\"header\", \"true\") \\\n",
        "                      .option(\"delimiter\", \"\\t\") \\\n",
        "                      .schema(names_df_schema) \\\n",
        "                      .load(\"name.basics.tsv.gz\")"
      ],
      "execution_count": null,
      "outputs": []
    },
    {
      "cell_type": "markdown",
      "metadata": {
        "id": "N9_Smt_uNuza"
      },
      "source": [
        "As previously mentioned, from the names dataset we're going to retain only relevant information for our needs in order to reduce memory consumption and exclude potentially problematic data. Thus we're going to set a filter on profession, in order to have only actors (or actresses), and we're going to select only columns `nconst`, which contains a unique identifier for the person, and `primaryName`, which contains the name the person is known for. Morevoer, we're going to assign a progressive numeric id to each actor, since it is easier to iterate over numeric ids: we're going to use this data as unique identifier for our nodes in the graph."
      ]
    },
    {
      "cell_type": "code",
      "metadata": {
        "id": "pWZnh07R87Xg"
      },
      "source": [
        "names_df = names_df \\\n",
        ".replace({'\\\\N': None}) \\\n",
        ".filter(names_df.primaryProfession.contains(\"actor\") | names_df.primaryProfession.contains(\"actress\")) \\\n",
        ".select(\"nconst\", \"primaryName\") \\\n",
        ".withColumn(\"id\", F.row_number().over(Window.orderBy(\"nconst\"))-1).cache()"
      ],
      "execution_count": null,
      "outputs": []
    },
    {
      "cell_type": "code",
      "metadata": {
        "id": "THjBVh7LAZ0P"
      },
      "source": [
        "# Contains relationships between actors and movies\n",
        "rel_df_schema = StructType() \\\n",
        ".add(\"tconst\", StringType(), False) \\\n",
        ".add(\"ordering\", IntegerType(), False) \\\n",
        ".add(\"nconst\", StringType(), False) \\\n",
        ".add(\"category\", StringType(), False) \\\n",
        ".add(\"job\", StringType(), True) \\\n",
        ".add(\"characters\", StringType(), True)\n",
        "rel_df = spark.read.format(\"csv\") \\\n",
        "                      .option(\"header\", \"true\") \\\n",
        "                      .option(\"delimiter\", \"\\t\") \\\n",
        "                      .schema(rel_df_schema) \\\n",
        "                      .load(\"title.principals.tsv.gz\")\n",
        "rel_df = rel_df \\\n",
        ".replace({'\\\\N': None}) \\\n",
        ".join(other=names_df, on=\"nconst\") \\\n",
        ".select(\"id\", \"tconst\") "
      ],
      "execution_count": null,
      "outputs": []
    },
    {
      "cell_type": "markdown",
      "metadata": {
        "id": "FWSispEuA_XC"
      },
      "source": [
        "The data frame we just read contains actor-movie relationships. Since we are interested in actor-actor relationships, we need to perform some kind of transformation on our data. In particular, two actors (nodes) are connected by an edge if they co-acted in at least one movie. The edge label will contain a list of the movie ids in which the two actors played a role together.\n",
        "\n",
        "To obtain an actor-actor relationship data frame, we're going to perform a grouping-aggregate operation: for each movie we will list all the actors that participated in said movie."
      ]
    },
    {
      "cell_type": "code",
      "metadata": {
        "id": "AVmgtIbMni5Q"
      },
      "source": [
        "cast_by_mov = rel_df \\\n",
        ".groupby(rel_df.tconst) \\\n",
        ".agg(F.collect_set(rel_df.id).alias(\"cast\")) \\\n",
        ".join(other=movies_df, on=\"tconst\", how=\"inner\").cache()"
      ],
      "execution_count": null,
      "outputs": []
    },
    {
      "cell_type": "markdown",
      "metadata": {
        "id": "dfqdsKX3Cvwi"
      },
      "source": [
        "We will now define a function that can be applied to each row of the data frame to obtain the data we're interested in. The function takes as input a single row (a tuple) of the data frame and computes permutations of 2 elements on the list of actors that composes the cast of the movie via the package `itertools`, after that it reshapes the remaining information, obtaining for each row a <u>**set**</u> of rows in the form of:\n",
        "\n",
        "| src | dst | movie_id  | movie_genres        |\n",
        "|-----|-----|-----------|---------------------|\n",
        "| x   | y   | m1        |[Drama, Fantasy,...] |\n",
        "\n",
        "Computing permutations of 2 elements of all the actors is a way of simulating an undirected graph: since PageRank works on directed graphs only, we need to simulate the symmetric relationship \"CO_ACTED\" by adding 2 edges with opposite directions for each pair of nodes.\n"
      ]
    },
    {
      "cell_type": "code",
      "metadata": {
        "id": "BTB7uLeHva1t"
      },
      "source": [
        "import itertools\n",
        "def co_rows(row) :\n",
        "  comb = list(itertools.permutations(row[1], 2))\n",
        "  new_rows = []\n",
        "  movie_genres = row[9].split(\",\") if row[9] is not None else None\n",
        "  for c in comb:\n",
        "    new_rows.append((c[0], c[1], row[0], movie_genres))\n",
        "  return new_rows\n",
        "actor_actor_rel_df = cast_by_mov.rdd.flatMap(lambda row: co_rows(row)) \\\n",
        ".toDF([\"src\", \"dst\", \"movie_id\", \"movie_genres\"]).cache()"
      ],
      "execution_count": null,
      "outputs": []
    },
    {
      "cell_type": "markdown",
      "metadata": {
        "id": "rTfv5BWrQXqo"
      },
      "source": [
        "Since movie genres are relevant for topic-sensitive PageRank, we want to retain this information on nodes rather than edges. To do that, we perform a group by operation on the `src` column of the data frame just obtained and we merge all the lists of associated movie genres removing duplicates. We finally store this information in the `names_df` data frame with a join operation. This is equivalent to finding all movie genres an actor has been associated with in his/her career. \n",
        "Another step we're adding is that we perform the join as an *inner join*: in this way, we drop isolated nodes from our data. This is beneficial to us because:\n",
        "\n",
        "\n",
        "1.   We're mainly interested in the top ranking nodes, isolated nodes will always be the lowest ranking\n",
        "2.   We're interested in the relations between actors, a node with no edges has very limited meaning in these terms\n",
        "3.  The percentage of isolated nodes in this dataset is quite high and it would lead to a cumulative PageRank value greatly lower than one\n"
      ]
    },
    {
      "cell_type": "code",
      "metadata": {
        "id": "f_2h8XWCx9HE"
      },
      "source": [
        "names_df = names_df.join(\n",
        "    other = actor_actor_rel_df \\\n",
        "    .groupby(F.col(\"src\").alias(\"id\")) \\\n",
        "    .agg(F.array_distinct(F.flatten(F.collect_set(F.col(\"movie_genres\")))).alias(\"genres\")),\n",
        "    on = \"id\", how = \"inner\"\n",
        ").persist()"
      ],
      "execution_count": null,
      "outputs": []
    },
    {
      "cell_type": "markdown",
      "metadata": {
        "id": "G-uIqk-gRf0Q"
      },
      "source": [
        "We can finally remove genres from the edges data frame. However, if we stopped here we would have a ***multigraph***, aka we would have multiple edges between the same pair of nodes. To obtain a single edge between a pair of nodes we need to collect all the edges into a single one and label it with the list of movies two actors participated in, obtaining this kind of structure:\n",
        "\n",
        "| src | dst | movie_ids       |\n",
        "|-----|-----|-----------------|\n",
        "| x   | y   | [m1, m2,..., mn]|"
      ]
    },
    {
      "cell_type": "code",
      "metadata": {
        "id": "EpitbTf0jnAg"
      },
      "source": [
        "edges_df = actor_actor_rel_df \\\n",
        ".drop(\"movie_genres\") \\\n",
        ".groupBy([F.col(\"src\"), F.col(\"dst\")]) \\\n",
        ".agg(F.collect_set(F.col(\"movie_id\")).alias(\"movie_ids\")).persist()"
      ],
      "execution_count": null,
      "outputs": []
    },
    {
      "cell_type": "markdown",
      "metadata": {
        "id": "0JVTBK7mqpAM"
      },
      "source": [
        "Finally, we're going to import the ratings data set."
      ]
    },
    {
      "cell_type": "code",
      "metadata": {
        "id": "61_rfwVxqoXW"
      },
      "source": [
        "# Contains user ratings\n",
        "ratings_df_schema = StructType() \\\n",
        ".add(\"tconst\", StringType(), False) \\\n",
        ".add(\"averageRating\", DoubleType(), False) \\\n",
        ".add(\"numVotes\", IntegerType(), False) \n",
        "ratings_df = spark.read.format(\"csv\") \\\n",
        "                      .option(\"header\", \"true\") \\\n",
        "                      .option(\"delimiter\", \"\\t\") \\\n",
        "                      .schema(ratings_df_schema) \\\n",
        "                      .load(\"title.ratings.tsv.gz\") \\\n",
        "                      .cache()"
      ],
      "execution_count": null,
      "outputs": []
    },
    {
      "cell_type": "markdown",
      "metadata": {
        "id": "3QlQx8dqT_Yw"
      },
      "source": [
        "To obtain a single weight value associated with a movie (its \"impact\") we perform a series of calculations better described in the dedicated section of the project report."
      ]
    },
    {
      "cell_type": "code",
      "metadata": {
        "id": "43noZztCh9Y7"
      },
      "source": [
        "wind = Window.partitionBy(\"row\")\n",
        "edge_weights_df = ratings_df \\\n",
        ".repartition(200) \\\n",
        ".join(movies_df, on =\"tconst\", how=\"leftsemi\") \\\n",
        ".withColumn(\"row\", F.lit(1)) \\\n",
        ".withColumn(\"r_mean\", F.avg(F.col(\"averageRating\")).over(wind)) \\\n",
        ".withColumn(\"r_sd\", F.stddev(F.col(\"averageRating\")).over(wind)) \\\n",
        ".withColumn(\"r_zscore\", F.col(\"averageRating\") - F.col(\"r_mean\") / F.col(\"r_sd\")) \\\n",
        ".drop(\"r_mean\", \"r_sd\") \\\n",
        ".withColumn(\"v_mean\", F.avg(F.col(\"numVotes\")).over(wind)) \\\n",
        ".withColumn(\"v_sd\", F.stddev(F.col(\"numVotes\")).over(wind)) \\\n",
        ".withColumn(\"v_zscore\", F.col(\"numVotes\") - F.col(\"v_mean\") / F.col(\"v_sd\")) \\\n",
        ".drop(\"v_mean\", \"v_sd\") \\\n",
        ".withColumn(\"min_r_zscore\", F.min(\"r_zscore\").over(wind)) \\\n",
        ".withColumn(\"r_zscore\", F.col(\"r_zscore\") - F.col(\"min_r_zscore\") + 1) \\\n",
        ".drop(\"min_r_zscore\") \\\n",
        ".withColumn(\"min_v_zscore\", F.min(\"v_zscore\").over(wind)) \\\n",
        ".withColumn(\"v_zscore\", F.col(\"v_zscore\") - F.col(\"min_v_zscore\") + 1) \\\n",
        ".drop(\"min_v_zscore\", \"row\") \\\n",
        ".withColumn(\"A\", F.lit(0.40)) \\\n",
        ".withColumn(\"B\", F.lit(0.60)) \\\n",
        ".withColumn(\"weight\", F.col(\"r_zscore\")*F.col(\"A\") + F.col(\"v_zscore\")*F.col(\"B\")) \\\n",
        ".select(F.col(\"tconst\").alias(\"movie_id\"), \"weight\").coalesce(100).persist()"
      ],
      "execution_count": null,
      "outputs": []
    },
    {
      "cell_type": "markdown",
      "metadata": {
        "id": "ct21GQLZdMXt"
      },
      "source": [
        "We can finally use the obtained dataframes to build a graph in `graphframes`."
      ]
    },
    {
      "cell_type": "code",
      "metadata": {
        "id": "ATEPT1_W15RK"
      },
      "source": [
        "graph = GraphFrame(v = names_df, e = edges_df).persist()"
      ],
      "execution_count": null,
      "outputs": []
    },
    {
      "cell_type": "markdown",
      "metadata": {
        "id": "B8lFzDJk1SJP"
      },
      "source": [
        "## Applications"
      ]
    },
    {
      "cell_type": "code",
      "metadata": {
        "cellView": "form",
        "id": "Jxz_6xdS72CS"
      },
      "source": [
        "#@title ### Function parameters { run: \"auto\" }\n",
        "#@markdown #### Arguments for all functions\n",
        "n_iter = 15 #@param {type:\"slider\", min:1, max:1000, step:1}\n",
        "tolerance = 1e-4 #@param {type:\"number\"}\n",
        "beta = 0.85 #@param {type:\"number\"}\n",
        "verbose = True #@param {type:\"boolean\"}\n",
        "#@markdown #### Arguments for `weighted_page_rank`\n",
        "na_politic = 'min_value' #@param ['min_value', 'drop']\n"
      ],
      "execution_count": null,
      "outputs": []
    },
    {
      "cell_type": "markdown",
      "metadata": {
        "id": "YwRMkGaCKrYm"
      },
      "source": [
        "### Arguments for `topic_sensitive_page_rank`\n",
        "To select multiple topics: `Cmd + click` or `Ctrl + click`"
      ]
    },
    {
      "cell_type": "code",
      "metadata": {
        "id": "MLDX2-OuK9yy"
      },
      "source": [
        "all_genres = actor_actor_rel_df.select(\"movie_genres\").distinct().groupby().agg(F.collect_set(F.col('movie_genres'))).collect()\n",
        "from itertools import chain\n",
        "all_genres = set(chain.from_iterable(all_genres[0][0]))"
      ],
      "execution_count": null,
      "outputs": []
    },
    {
      "cell_type": "code",
      "metadata": {
        "colab": {
          "base_uri": "https://localhost:8080/",
          "height": 111,
          "referenced_widgets": [
            "f48e9bab73c64344abe8f737c0ffce23",
            "680a300564244137b1741461d03958c7",
            "e5e6f84429404689ac87df80322f5ecd"
          ]
        },
        "id": "RaC64-ulK_EU",
        "outputId": "ebd8f853-2079-40e5-cc07-c1811fdae874"
      },
      "source": [
        "import ipywidgets as widgets\n",
        "from IPython.display import display\n",
        "topics = widgets.SelectMultiple(\n",
        "    options=all_genres,\n",
        "    description='Topics',\n",
        "    disabled=False\n",
        ")\n",
        "display(topics)"
      ],
      "execution_count": null,
      "outputs": [
        {
          "output_type": "display_data",
          "data": {
            "application/vnd.jupyter.widget-view+json": {
              "model_id": "f48e9bab73c64344abe8f737c0ffce23",
              "version_major": 2,
              "version_minor": 0
            },
            "text/plain": [
              "SelectMultiple(description='Topics', options=('Thriller', 'Romance', 'Action', 'Music', 'Sport', 'Mystery', 'S…"
            ]
          },
          "metadata": {
            "tags": []
          }
        }
      ]
    },
    {
      "cell_type": "markdown",
      "metadata": {
        "id": "cKP0N76q7uAo"
      },
      "source": [
        "### Application of the classical PageRank algorithm to the actors network"
      ]
    },
    {
      "cell_type": "code",
      "metadata": {
        "colab": {
          "base_uri": "https://localhost:8080/"
        },
        "id": "Y6hbI1f6_eYa",
        "outputId": "ef97e8fe-bf7a-499a-9b75-3f105df8b0bb"
      },
      "source": [
        "PR_classic = page_rank(graph=graph,\n",
        "                       tolerance=tolerance,\n",
        "                       n_iter=n_iter,\n",
        "                       beta=beta,\n",
        "                       verbose=verbose)"
      ],
      "execution_count": null,
      "outputs": [
        {
          "output_type": "stream",
          "text": [
            "Computing transition matrix...\n",
            "Computing initial vectors for nodes...\n",
            "Starting cycle\n",
            "Iteration: 1\n",
            "Iteration: 2\n",
            "Iteration: 3\n",
            "Iteration: 4\n",
            "Finished\n"
          ],
          "name": "stdout"
        }
      ]
    },
    {
      "cell_type": "markdown",
      "metadata": {
        "id": "LX4ak3k5KJ0g"
      },
      "source": [
        "### Application of the topic-sensitive PageRank algorithm to the actors network"
      ]
    },
    {
      "cell_type": "code",
      "metadata": {
        "colab": {
          "base_uri": "https://localhost:8080/"
        },
        "id": "0DlSnPixTBuV",
        "outputId": "c6de637d-7778-4549-a917-cb6852b3a1fb"
      },
      "source": [
        "PR_ts = topic_sensitive_page_rank(graph=graph,\n",
        "                                  tolerance=tolerance,\n",
        "                                  n_iter=n_iter,\n",
        "                                  beta=beta,\n",
        "                                  topics=list(topics.value),\n",
        "                                  verbose=verbose)"
      ],
      "execution_count": null,
      "outputs": [
        {
          "output_type": "stream",
          "text": [
            "Computing transition matrix...\n",
            "Launching workers...\n",
            "Worker 'Action' started\n",
            "Worker 'Horror' started\n",
            "Worker 'Drama' started\n",
            "Worker 'Comedy' started\n",
            "Worker 'Drama': iteration 3\n",
            "Worker 'Action': iteration 3\n",
            "Worker 'Horror': iteration 3\n",
            "Worker 'Drama': iteration 1\n",
            "Worker 'Comedy': iteration 1\n",
            "Worker 'Horror': iteration 1\n",
            "Worker 'Action': iteration 1\n",
            "Worker 'Comedy': iteration 3\n",
            "Worker 'Drama': iteration 4\n",
            "Worker 'Action': iteration 4\n",
            "Worker 'Horror': iteration 4\n",
            "Worker 'Drama': iteration 2\n",
            "Worker 'Comedy': iteration 2\n",
            "Worker 'Horror': iteration 2\n",
            "Worker 'Action': iteration 2\n",
            "Worker 'Comedy': iteration 4\n",
            "Worker 'Drama' done\n",
            "Worker 'Action': iteration 5\n",
            "Worker 'Horror': iteration 5\n",
            "Worker 'Drama': iteration 3\n",
            "Worker 'Comedy': iteration 3\n",
            "Worker 'Horror': iteration 3\n",
            "Worker 'Action': iteration 3\n",
            "Worker 'Comedy' done\n",
            "Worker 'Action' done\n",
            "Worker 'Horror' done\n",
            "Worker 'Drama': iteration 4\n",
            "Worker 'Comedy': iteration 4\n",
            "Worker 'Horror': iteration 4\n",
            "Worker 'Action': iteration 4\n",
            "Worker 'Drama' done\n",
            "Worker 'Comedy' done\n",
            "Worker 'Horror': iteration 5\n",
            "Worker 'Action': iteration 5\n",
            "Worker 'Horror' done\n",
            "Worker 'Action' done\n",
            "Workers finished, producing final data frame...\n",
            "Finished!\n"
          ],
          "name": "stdout"
        }
      ]
    },
    {
      "cell_type": "markdown",
      "metadata": {
        "id": "OJh4IJTBTvNg"
      },
      "source": [
        "### Application of the weighted topic-sensitive PageRank algorithm to the actors network"
      ]
    },
    {
      "cell_type": "code",
      "metadata": {
        "colab": {
          "base_uri": "https://localhost:8080/"
        },
        "id": "p28CjGGOTuwp",
        "outputId": "0cbb6cb8-f791-4ab9-f6c1-3147361d6de7"
      },
      "source": [
        "PR_ew = weighted_page_rank(graph=graph,\n",
        "                           weights = edge_weights_df,\n",
        "                           na_politic = 'min_value',\n",
        "                           tolerance=tolerance,\n",
        "                           n_iter=n_iter,\n",
        "                           beta=beta,\n",
        "                           verbose=verbose)"
      ],
      "execution_count": null,
      "outputs": [
        {
          "output_type": "stream",
          "text": [
            "Computing transition matrix...\n",
            "Iteration: 1\n",
            "Iteration: 2\n",
            "Iteration: 3\n",
            "Iteration: 4\n",
            "Iteration: 5\n",
            "Iteration: 6\n",
            "Iteration: 7\n",
            "Iteration: 8\n",
            "Iteration: 9\n",
            "Iteration: 10\n",
            "Iteration: 11\n",
            "Finished\n"
          ],
          "name": "stdout"
        }
      ]
    },
    {
      "cell_type": "markdown",
      "metadata": {
        "id": "GIT-2AMK0_Ri"
      },
      "source": [
        "## Results and data visualization"
      ]
    },
    {
      "cell_type": "markdown",
      "metadata": {
        "id": "VwqJ_Tq4brcA"
      },
      "source": [
        "For each PageRank variation we will derive the top 100 ranking nodes and plot them."
      ]
    },
    {
      "cell_type": "markdown",
      "metadata": {
        "id": "9lW-D26GVSi7"
      },
      "source": [
        "### Getting the top 100 ranking nodes"
      ]
    },
    {
      "cell_type": "code",
      "metadata": {
        "id": "haFOWBRYVPDv"
      },
      "source": [
        "# Top 100 ranking nodes - classic PR\n",
        "top_class_nodes = PR_classic.withColumn(\"Ranking\", F.row_number().over(Window.orderBy(F.col('pageRank').desc()))) \\\n",
        "  .where(F.col(\"Ranking\") <= 100)\n",
        "top_class_edges = graph.edges.join(top_class_nodes, F.col(\"src\") == F.col(\"id\"), how=\"leftsemi\") \\\n",
        "  .join(top_class_nodes, F.col(\"dst\") == F.col(\"id\"), how=\"leftsemi\")\n",
        "top_class_nodes_pd = top_class_nodes.toPandas()\n",
        "top_class_edges_pd = top_class_edges.toPandas()"
      ],
      "execution_count": null,
      "outputs": []
    },
    {
      "cell_type": "code",
      "metadata": {
        "colab": {
          "background_save": true
        },
        "id": "QobrnHmIWJYs"
      },
      "source": [
        "# Top 100 ranking nodes - topic-sensitive PR\n",
        "if (len(list(topics.value)) > 0):\n",
        "  top_ts_nodes = PR_ts.withColumn(\"map\", F.create_map(list(itertools.chain.from_iterable((F.lit(t), F.col(t)) for t in list(topics.value))))) \\\n",
        "    .drop(*[t for t in list(topics.value)]) \\\n",
        "    .select('*', F.explode(F.col(\"map\")).alias('topic','pageRank')) \\\n",
        "    .drop(\"map\") \\\n",
        "    .withColumn(\"Ranking\", F.row_number().over(Window.partitionBy(\"topic\").orderBy(F.col(\"pageRank\").desc()))) \\\n",
        "    .filter(F.col(\"Ranking\") <= 100)\n",
        "  top_ts_edges = graph.edges.join(top_ts_nodes, F.col(\"src\") == F.col(\"id\"), how=\"leftsemi\") \\\n",
        "    .join(top_ts_nodes, F.col(\"dst\") == F.col(\"id\"), how=\"leftsemi\")\n",
        "  top_ts_nodes_pd = top_ts_nodes.toPandas()\n",
        "  top_ts_edges_pd = top_ts_edges.toPandas()\n",
        "else:\n",
        "  top_ts_nodes = PR_ts.withColumn(\"Ranking\", F.row_number().over(Window.orderBy(F.col('pageRank').desc()))) \\\n",
        "    .where(F.col(\"Ranking\") <= 100)\n",
        "  top_ts_edges = graph.edges.join(top_ts_nodes, F.col(\"src\") == F.col(\"id\"), how=\"leftsemi\") \\\n",
        "    .join(top_ts_nodes, F.col(\"dst\") == F.col(\"id\"), how=\"leftsemi\")\n",
        "  top_ts_nodes_pd = top_ts_nodes.toPandas()\n",
        "  top_ts_edges_pd = top_ts_edges.toPandas()"
      ],
      "execution_count": null,
      "outputs": []
    },
    {
      "cell_type": "code",
      "metadata": {
        "id": "53B92ikF-Dku",
        "colab": {
          "base_uri": "https://localhost:8080/"
        },
        "outputId": "d75f0270-5e65-42cd-c617-b26dea822119"
      },
      "source": [
        "topics.value"
      ],
      "execution_count": 73,
      "outputs": [
        {
          "output_type": "execute_result",
          "data": {
            "text/plain": [
              "('Action', 'Horror', 'Drama', 'Comedy')"
            ]
          },
          "metadata": {
            "tags": []
          },
          "execution_count": 73
        }
      ]
    },
    {
      "cell_type": "code",
      "metadata": {
        "id": "3BazNXfaWOzc"
      },
      "source": [
        "# Top 100 ranking nodes - weighted PR\n",
        "top_w_nodes = PR_ew.withColumn(\"Ranking\", F.row_number().over(Window.orderBy(F.col('pageRank').desc()))) \\\n",
        ".where(F.col(\"Ranking\") <= 100)\n",
        "top_w_edges = graph.edges.join(top_w_nodes, F.col(\"src\") == F.col(\"id\"), how=\"leftsemi\") \\\n",
        "  .join(top_w_nodes, F.col(\"dst\") == F.col(\"id\"), how=\"leftsemi\")\n",
        "top_w_nodes_pd = top_w_nodes.toPandas()\n",
        "top_w_edges_pd = top_w_edges.toPandas()"
      ],
      "execution_count": null,
      "outputs": []
    },
    {
      "cell_type": "markdown",
      "metadata": {
        "id": "4VxhHF99kdGk"
      },
      "source": [
        "### Transformations for data visualization"
      ]
    },
    {
      "cell_type": "code",
      "metadata": {
        "id": "Z5XZqYveklq1"
      },
      "source": [
        "# Renaming cols\n",
        "top_class_nodes_pd.rename(columns={'primaryName': 'label'}, inplace=True)\n",
        "top_class_edges_pd.rename(columns={'src':'source', 'dst':'target'}, inplace=True)\n",
        "top_ts_nodes_pd.rename(columns={'primaryName': 'label'}, inplace=True)\n",
        "top_ts_edges_pd.rename(columns={'src':'source', 'dst':'target'}, inplace=True)\n",
        "top_w_nodes_pd.rename(columns={'primaryName': 'label'}, inplace=True)\n",
        "top_w_edges_pd.rename(columns={'src':'source', 'dst':'target'}, inplace=True)"
      ],
      "execution_count": 74,
      "outputs": []
    },
    {
      "cell_type": "code",
      "metadata": {
        "id": "cPc0NYS1lM9I"
      },
      "source": [
        "# Assign fill colors to PR values\n",
        "def assign_fill(df):\n",
        "  # Sample single color from value\n",
        "  def get_fill_color(value, max):\n",
        "    val_resc = value/max\n",
        "    return plotly.colors.sample_colorscale(plotly.colors.diverging.Temps, val_resc)[0]\n",
        "  max_pr = df['pageRank'].max()\n",
        "  return df.assign(fill = lambda df: df['pageRank'].map(lambda pr: get_fill_color(pr, max_pr)))\n",
        "\n",
        "top_class_nodes_pd = assign_fill(top_class_nodes_pd)\n",
        "top_w_nodes_pd = assign_fill(top_w_nodes_pd)"
      ],
      "execution_count": 75,
      "outputs": []
    },
    {
      "cell_type": "code",
      "metadata": {
        "id": "7aXl-A3tmMa_"
      },
      "source": [
        "# Convert in dictionaries for cytoscape\n",
        "def convert_to_dict(nodes, edges, topic = None):\n",
        "  if topic is None:\n",
        "    nodes_dict = nodes.to_dict('records')\n",
        "    edges_dict = edges.to_dict('records')\n",
        "    elements = []\n",
        "    for n in nodes_dict:\n",
        "      elements.append({'data': n, 'group':'nodes'})\n",
        "    for e in edges_dict:\n",
        "      elements.append({'data': e, 'group':'edges'})\n",
        "    return elements\n",
        "  else:\n",
        "    topic_df = nodes[nodes['topic'] == topic]\n",
        "    topic_df = assign_fill(topic_df)\n",
        "    edges_sub = edges[(edges['source'].isin(topic_df['id'].to_numpy())) &\n",
        "                      (edges['target'].isin(topic_df['id'].to_numpy()))]\n",
        "    nodes_dict = topic_df.to_dict('records')\n",
        "    edges_dict = edges_sub.to_dict('records')\n",
        "    elements = []\n",
        "    for n in nodes_dict:\n",
        "      elements.append({'data': n, 'group':'nodes'})\n",
        "    for e in edges_dict:\n",
        "      elements.append({'data': e, 'group':'edges'})\n",
        "    return elements\n",
        "\n",
        "top_class_el = convert_to_dict(top_class_nodes_pd, top_class_edges_pd)\n",
        "top_ts_el_list = [convert_to_dict(top_ts_nodes_pd, top_ts_edges_pd, t) for t in list(topics.value)]\n",
        "top_w_el = convert_to_dict(top_w_nodes_pd, top_w_edges_pd)"
      ],
      "execution_count": 76,
      "outputs": []
    },
    {
      "cell_type": "code",
      "metadata": {
        "id": "wwXiFUXwnJF9"
      },
      "source": [
        "# Function for generating color legend\n",
        "def generate_color_legend(df):\n",
        "  import numpy as np\n",
        "  min_pr = df['pageRank'].min()\n",
        "  max_pr = df['pageRank'].max()\n",
        "  n=100\n",
        "  rg = np.linspace(start=min_pr, stop=max_pr, num=n)\n",
        "  sequences = [(\"temps\", px.colors.diverging.Temps)]\n",
        "  color_bar = go.Figure(\n",
        "          data=[\n",
        "              go.Bar(\n",
        "                  orientation=\"h\",\n",
        "                  y=[name] * n,\n",
        "                  x=np.array([(max_pr)/n]*(n)),\n",
        "                  customdata=[x for x in rg],\n",
        "                  marker=dict(color=list(rg), \n",
        "                              colorscale=name, \n",
        "                              line_width=0),\n",
        "                  hovertemplate=\"%{customdata}\"\n",
        "              )\n",
        "              for name, colors in reversed(sequences)\n",
        "          ],\n",
        "          layout=dict(\n",
        "              title={\"text\": \"PageRank value\", \"x\" : 0.5},\n",
        "              barmode=\"stack\",\n",
        "              bargap=0,\n",
        "              showlegend=False,\n",
        "              xaxis=dict(showticklabels=True, \n",
        "                        showgrid=True,\n",
        "                        range=[min_pr, max_pr],\n",
        "                        tickmode = 'array',\n",
        "                        tickvals = np.linspace(start=min_pr, stop=max_pr, num=5)\n",
        "                        ),\n",
        "              yaxis=dict(visible=False),\n",
        "              height=150,\n",
        "              width=600,\n",
        "              margin=dict(b=10)\n",
        "          ))\n",
        "  return color_bar\n",
        "\n",
        "class_bar = generate_color_legend(top_class_nodes_pd)\n",
        "w_bar = generate_color_legend(top_w_nodes_pd)\n",
        "ts_bar_list = [generate_color_legend(top_ts_nodes_pd[top_ts_nodes_pd['topic'] == t]) for t in list(topics.value)]"
      ],
      "execution_count": 77,
      "outputs": []
    },
    {
      "cell_type": "code",
      "metadata": {
        "id": "CWcljqj-Gb0x"
      },
      "source": [
        "def generate_ranking_graph(df, topic = None):\n",
        "  if topic is None:\n",
        "    fig = px.bar(df, x=\"pageRank\", y=\"Ranking\",\n",
        "             orientation = 'h',\n",
        "             barmode='group',\n",
        "             text = \"label\",\n",
        "             labels = {'pageRank' : 'PageRank value'}, width=900, height = 1500)\n",
        "    fig.update_yaxes(type='category', autorange=\"reversed\")\n",
        "    fig.update_traces(textposition='outside')\n",
        "  else:\n",
        "    fig = px.bar(df[df['topic'] == topic], \n",
        "                 x=\"pageRank\", y=\"Ranking\",\n",
        "                 orientation = 'h',\n",
        "                 barmode='group',\n",
        "                 text = \"label\",\n",
        "                 labels = {'pageRank' : 'PageRank value'}, width=900, height = 900)\n",
        "    fig.update_yaxes(type='category', autorange=\"reversed\")\n",
        "    fig.update_traces(textposition='outside')\n",
        "  return fig\n",
        "\n",
        "class_plot_rank = generate_ranking_graph(top_class_nodes_pd)\n",
        "ts_plot_rank_list = [generate_ranking_graph(top_ts_nodes_pd, t) for t in list(topics.value)]\n",
        "w_plot_rank = generate_ranking_graph(top_w_nodes_pd)"
      ],
      "execution_count": 78,
      "outputs": []
    },
    {
      "cell_type": "markdown",
      "metadata": {
        "id": "wV-Zbmsmb699"
      },
      "source": [
        "Launch the dashboard"
      ]
    },
    {
      "cell_type": "code",
      "metadata": {
        "colab": {
          "base_uri": "https://localhost:8080/",
          "height": 52
        },
        "id": "rnCOZE4YsvW4",
        "outputId": "8ec0665e-1e48-4a12-b53d-a6c8a7bac1e4"
      },
      "source": [
        "app = JupyterDash(__name__, external_stylesheets=[dbc.themes.BOOTSTRAP])\n",
        "cyto_stylesheet = [\n",
        "    {\n",
        "        'selector': 'node',\n",
        "        'style': {\n",
        "            'label': 'data(label)',\n",
        "            'background-color': 'data(fill)',\n",
        "            'text-halign' : 'center',\n",
        "            'text-valign' : 'top',\n",
        "            'text-wrap' : 'wrap'\n",
        "        }\n",
        "    }, \n",
        "    {\n",
        "      'selector': ':selected',\n",
        "      'style': {\n",
        "        'background-color': 'LightBlue'\n",
        "      }\n",
        "    }\n",
        "]\n",
        "\n",
        "pr_view = html.Div([\n",
        "    cyto.Cytoscape(\n",
        "      layout={'name': 'circle'},\n",
        "      style={'width': '100%', 'height': '700px'},\n",
        "      id=\"cyto_pr\",\n",
        "      elements=top_class_el,\n",
        "      stylesheet = cyto_stylesheet, \n",
        "      autounselectify=False, \n",
        "      responsive=True\n",
        "      )\n",
        "], style= {'borderWidth': '1px', \n",
        "           'borderStyle': 'solid',\n",
        "           'width': '100%',\n",
        "           'height': '100%'},\n",
        "  className='border-secondary rounded', id = \"cyto-container\")\n",
        "col_1 = dbc.Col(children=[\n",
        "   pr_view                      \n",
        "], width = 9)\n",
        "col_2 = dbc.Col([\n",
        "   html.Label(['Graph layout', dcc.Dropdown(\n",
        "    id='dropdown',\n",
        "    value='circle',\n",
        "    clearable=False,\n",
        "    options=[\n",
        "        {'label': name.capitalize(), 'value': name}\n",
        "        for name in ['grid', 'random', 'circle', 'cose', 'concentric']\n",
        "    ], \n",
        "    style={'width':'100%'}\n",
        "   )], style={'width':'100%'}),\n",
        "   dbc.Card([\n",
        "       dbc.CardBody([\n",
        "          html.H4(\"Topics\", className=\"card-title\"), \n",
        "          dbc.FormGroup([\n",
        "            dbc.RadioItems(\n",
        "                options=[\n",
        "                  dict(label= t, value= list(topics.value).index(t)) for t in list(topics.value)  \n",
        "                ],\n",
        "                value=0,\n",
        "                id=\"topic-choice\"\n",
        "            )\n",
        "          ])\n",
        "       ])      \n",
        "   ], color = \"info\", outline=True, id = \"topic-card\", style={'display':'none'}),\n",
        "   dbc.Card([\n",
        "     dbc.CardBody([\n",
        "        html.H4(\"INFO\", className=\"card-title\"),\n",
        "        html.H6(\"\"\"Select nodes to visualize associated \n",
        "        information\"\"\", className=\"card-subtitle\"),\n",
        "        html.Div(className=\"card-text\", id = 'card-info-1')      \n",
        "     ])\n",
        "   ])             \n",
        "], width = 3)\n",
        "buttons = html.Div([dbc.ButtonGroup(\n",
        "    [\n",
        "        dbc.Button(\"Classic PageRank\", style = {'marginRight': '5px'}, \n",
        "                   active=True, id='btn-prc'),\n",
        "        dbc.Button(\"Topic-sensitive PageRank\", style = {'marginRight': '5px'},\n",
        "                   id='btn-prts'),\n",
        "        dbc.Button(\"Weighted PageRank\", style = {'paddingTop':'2px'},\n",
        "                   id='btn-prw')\n",
        "    ])])\n",
        "row_1 = dbc.Row(children=[\n",
        "   dbc.Col(buttons)                   \n",
        "], style = {'marginBottom': '1rem'})\n",
        "row_2 = dbc.Row(children=[\n",
        "    col_1,\n",
        "    col_2                    \n",
        "])\n",
        "row_3 = dbc.Row(children=[\n",
        "   dbc.Col([\n",
        "      html.Center([\n",
        "        dcc.Graph(id = \"colorscale\", figure = class_bar, config={'autosizable':True})\n",
        "      ], style = {'width':'100%', 'height':'150px'})      \n",
        "   ], width=9)                                              \n",
        "])\n",
        "row_4 = dbc.Row(children=[\n",
        "   dbc.Col([\n",
        "      html.Center([\n",
        "        dcc.Graph(id = \"rank-plot\", figure = class_plot_rank, config={'autosizable':True})\n",
        "      ], style = {'width':'100%'})      \n",
        "   ])                       \n",
        "])\n",
        "\n",
        "app.layout = dbc.Container(children=[row_1, row_2, row_3, row_4], \n",
        "                           id = 'app_container', \n",
        "                           fluid=True, style={'padding': '1rem'})\n",
        "\n",
        "@app.callback(Output('card-info-1', 'children'),\n",
        "              Input('cyto_pr', 'selectedNodeData'))\n",
        "def display_node_info(selected):\n",
        "  if selected is None or len(selected) == 0:\n",
        "    return ''\n",
        "  children = []\n",
        "  for n in selected:\n",
        "    children.append(\n",
        "        html.Div([\n",
        "          html.P([html.Span('Node id: ', style={'fontWeight':'bold'}),\n",
        "                  html.Span(n.get(\"id\"))]),\n",
        "          html.P([html.Span('Name: ', style={'fontWeight':'bold'}),\n",
        "                  html.Span(n.get(\"label\"))]), \n",
        "          html.P([html.Span('Genres: ', style={'fontWeight':'bold'}),\n",
        "                  html.Span(\", \".join(n.get(\"genres\")))]),    \n",
        "          html.P([html.Span('PageRank: ', style={'fontWeight':'bold'}),\n",
        "                  html.Span(n.get(\"pageRank\"))]),                   \n",
        "        ], style={'marginTop':'1em', 'padding':'1em'}, \n",
        "        className=\"border border-secondary rounded\")\n",
        "    )\n",
        "  return children\n",
        "\n",
        "@app.callback(Output('cyto_pr', 'layout'),\n",
        "              Input('dropdown', 'value'))\n",
        "def update_layout(layout):\n",
        "    return {\n",
        "        'name': layout,\n",
        "        'animate': True\n",
        "    }\n",
        "\n",
        "@app.callback(Output(\"cyto_pr\", \"elements\"),\n",
        "              Output(\"topic-card\", \"style\"),\n",
        "              Output(\"colorscale\", \"figure\"),\n",
        "              Output(\"btn-prc\", \"active\"),\n",
        "              Output(\"btn-prts\", \"active\"),\n",
        "              Output(\"btn-prw\", \"active\"),\n",
        "              Output(\"rank-plot\", \"figure\"),\n",
        "              Input(\"btn-prc\", \"n_clicks\"),\n",
        "              Input(\"btn-prts\", \"n_clicks\"),\n",
        "              Input(\"btn-prw\", \"n_clicks\"),\n",
        "              Input(\"topic-choice\", \"value\")\n",
        "              )\n",
        "def toggle_buttons(btn_c, btn_ts, bt_w, t_choice):\n",
        "  ctx = dash.callback_context\n",
        "  if not ctx.triggered:\n",
        "    raise dash.exceptions.PreventUpdate\n",
        "  else:\n",
        "    comp_id = ctx.triggered[0]['prop_id'].split('.')[0]\n",
        "  if comp_id == \"btn-prc\":\n",
        "    return top_class_el, {'display':'none'}, class_bar, True, False, False, class_plot_rank\n",
        "  elif comp_id == \"btn-prts\" or comp_id == \"topic-choice\":\n",
        "    return top_ts_el_list[t_choice], {'marginBottom':'5px'}, ts_bar_list[t_choice], False, True, False, ts_plot_rank_list[t_choice]\n",
        "  elif comp_id == \"btn-prw\":\n",
        "    return top_w_el, {'display':'none'}, w_bar, False, False, True, w_plot_rank\n",
        "\n",
        "if __name__ == '__main__':\n",
        "    app.run_server(mode='inline', height=2000)\n",
        "    #app.run_server(mode='external')"
      ],
      "execution_count": 80,
      "outputs": [
        {
          "output_type": "stream",
          "text": [
            "Dash app running on:\n"
          ],
          "name": "stdout"
        },
        {
          "output_type": "display_data",
          "data": {
            "application/javascript": [
              "(async (port, path, text, element) => {\n",
              "    if (!google.colab.kernel.accessAllowed) {\n",
              "      return;\n",
              "    }\n",
              "    element.appendChild(document.createTextNode(''));\n",
              "    const url = await google.colab.kernel.proxyPort(port);\n",
              "    const anchor = document.createElement('a');\n",
              "    anchor.href = new URL(path, url).toString();\n",
              "    anchor.target = '_blank';\n",
              "    anchor.setAttribute('data-href', url + path);\n",
              "    anchor.textContent = text;\n",
              "    element.appendChild(anchor);\n",
              "  })(8050, \"/\", \"http://127.0.0.1:8050/\", window.element)"
            ],
            "text/plain": [
              "<IPython.core.display.Javascript object>"
            ]
          },
          "metadata": {
            "tags": []
          }
        }
      ]
    }
  ]
}